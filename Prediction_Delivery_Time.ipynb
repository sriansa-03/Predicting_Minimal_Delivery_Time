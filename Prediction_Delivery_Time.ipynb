{
 "cells": [
  {
   "cell_type": "code",
   "execution_count": 1,
   "id": "14378b50",
   "metadata": {},
   "outputs": [],
   "source": [
    "#Loading dataset\n",
    "#Import pandas library\n",
    "import pandas as pd\n",
    "import numpy as np\n",
    "from matplotlib import pyplot as plt\n",
    "import seaborn as sns\n",
    "import statsmodels.api as sm\n",
    "\n",
    "#Reading the data\n",
    "mydata = pd.read_csv(\"D:\\\\downloads d drive\\\\PrcTraining.csv\", low_memory=False)"
   ]
  },
  {
   "cell_type": "code",
   "execution_count": 2,
   "id": "81e49a1a",
   "metadata": {},
   "outputs": [
    {
     "data": {
      "text/html": [
       "<div>\n",
       "<style scoped>\n",
       "    .dataframe tbody tr th:only-of-type {\n",
       "        vertical-align: middle;\n",
       "    }\n",
       "\n",
       "    .dataframe tbody tr th {\n",
       "        vertical-align: top;\n",
       "    }\n",
       "\n",
       "    .dataframe thead th {\n",
       "        text-align: right;\n",
       "    }\n",
       "</style>\n",
       "<table border=\"1\" class=\"dataframe\">\n",
       "  <thead>\n",
       "    <tr style=\"text-align: right;\">\n",
       "      <th></th>\n",
       "      <th>PlantC</th>\n",
       "      <th>VendorCodeC</th>\n",
       "      <th>Tracking</th>\n",
       "    </tr>\n",
       "  </thead>\n",
       "  <tbody>\n",
       "    <tr>\n",
       "      <th>count</th>\n",
       "      <td>65672.000000</td>\n",
       "      <td>65672.000000</td>\n",
       "      <td>64736.000000</td>\n",
       "    </tr>\n",
       "    <tr>\n",
       "      <th>mean</th>\n",
       "      <td>23.350058</td>\n",
       "      <td>713190.503990</td>\n",
       "      <td>2.873656</td>\n",
       "    </tr>\n",
       "    <tr>\n",
       "      <th>std</th>\n",
       "      <td>4.729042</td>\n",
       "      <td>21299.933895</td>\n",
       "      <td>1.815800</td>\n",
       "    </tr>\n",
       "    <tr>\n",
       "      <th>min</th>\n",
       "      <td>20.000000</td>\n",
       "      <td>700009.000000</td>\n",
       "      <td>1.000000</td>\n",
       "    </tr>\n",
       "    <tr>\n",
       "      <th>25%</th>\n",
       "      <td>22.000000</td>\n",
       "      <td>705880.000000</td>\n",
       "      <td>1.000000</td>\n",
       "    </tr>\n",
       "    <tr>\n",
       "      <th>50%</th>\n",
       "      <td>23.000000</td>\n",
       "      <td>709656.000000</td>\n",
       "      <td>4.000000</td>\n",
       "    </tr>\n",
       "    <tr>\n",
       "      <th>75%</th>\n",
       "      <td>24.000000</td>\n",
       "      <td>718233.000000</td>\n",
       "      <td>4.000000</td>\n",
       "    </tr>\n",
       "    <tr>\n",
       "      <th>max</th>\n",
       "      <td>61.000000</td>\n",
       "      <td>906377.000000</td>\n",
       "      <td>9.000000</td>\n",
       "    </tr>\n",
       "  </tbody>\n",
       "</table>\n",
       "</div>"
      ],
      "text/plain": [
       "             PlantC    VendorCodeC      Tracking\n",
       "count  65672.000000   65672.000000  64736.000000\n",
       "mean      23.350058  713190.503990      2.873656\n",
       "std        4.729042   21299.933895      1.815800\n",
       "min       20.000000  700009.000000      1.000000\n",
       "25%       22.000000  705880.000000      1.000000\n",
       "50%       23.000000  709656.000000      4.000000\n",
       "75%       24.000000  718233.000000      4.000000\n",
       "max       61.000000  906377.000000      9.000000"
      ]
     },
     "execution_count": 2,
     "metadata": {},
     "output_type": "execute_result"
    }
   ],
   "source": [
    "mydata.describe()"
   ]
  },
  {
   "cell_type": "code",
   "execution_count": 3,
   "id": "1aaa99de",
   "metadata": {},
   "outputs": [],
   "source": [
    "newdata = mydata.drop(['Document_Date', 'MaterialC', 'PlantC', 'Order_Unit', 'Delivery_date', 'Still_to_be_delivered_qty', 'Price_unit', 'Net_price', 'Net_Order_Value', 'Tracking'], axis = 1)"
   ]
  },
  {
   "cell_type": "code",
   "execution_count": 4,
   "id": "3d007f88",
   "metadata": {},
   "outputs": [
    {
     "data": {
      "text/html": [
       "<div>\n",
       "<style scoped>\n",
       "    .dataframe tbody tr th:only-of-type {\n",
       "        vertical-align: middle;\n",
       "    }\n",
       "\n",
       "    .dataframe tbody tr th {\n",
       "        vertical-align: top;\n",
       "    }\n",
       "\n",
       "    .dataframe thead th {\n",
       "        text-align: right;\n",
       "    }\n",
       "</style>\n",
       "<table border=\"1\" class=\"dataframe\">\n",
       "  <thead>\n",
       "    <tr style=\"text-align: right;\">\n",
       "      <th></th>\n",
       "      <th>MatGR</th>\n",
       "      <th>VendorCodeC</th>\n",
       "      <th>Order_Quantity</th>\n",
       "      <th>Completed_days</th>\n",
       "    </tr>\n",
       "  </thead>\n",
       "  <tbody>\n",
       "    <tr>\n",
       "      <th>0</th>\n",
       "      <td>8325</td>\n",
       "      <td>701185</td>\n",
       "      <td>40</td>\n",
       "      <td>45</td>\n",
       "    </tr>\n",
       "    <tr>\n",
       "      <th>1</th>\n",
       "      <td>8325</td>\n",
       "      <td>701185</td>\n",
       "      <td>40</td>\n",
       "      <td>45</td>\n",
       "    </tr>\n",
       "    <tr>\n",
       "      <th>2</th>\n",
       "      <td>8325</td>\n",
       "      <td>701185</td>\n",
       "      <td>50</td>\n",
       "      <td>45</td>\n",
       "    </tr>\n",
       "    <tr>\n",
       "      <th>3</th>\n",
       "      <td>8325</td>\n",
       "      <td>701185</td>\n",
       "      <td>50</td>\n",
       "      <td>45</td>\n",
       "    </tr>\n",
       "    <tr>\n",
       "      <th>4</th>\n",
       "      <td>8325</td>\n",
       "      <td>701185</td>\n",
       "      <td>50</td>\n",
       "      <td>45</td>\n",
       "    </tr>\n",
       "    <tr>\n",
       "      <th>...</th>\n",
       "      <td>...</td>\n",
       "      <td>...</td>\n",
       "      <td>...</td>\n",
       "      <td>...</td>\n",
       "    </tr>\n",
       "    <tr>\n",
       "      <th>65667</th>\n",
       "      <td>8407</td>\n",
       "      <td>905637</td>\n",
       "      <td>300</td>\n",
       "      <td>193</td>\n",
       "    </tr>\n",
       "    <tr>\n",
       "      <th>65668</th>\n",
       "      <td>8406</td>\n",
       "      <td>905637</td>\n",
       "      <td>6</td>\n",
       "      <td>193</td>\n",
       "    </tr>\n",
       "    <tr>\n",
       "      <th>65669</th>\n",
       "      <td>8401</td>\n",
       "      <td>717123</td>\n",
       "      <td>88</td>\n",
       "      <td>109</td>\n",
       "    </tr>\n",
       "    <tr>\n",
       "      <th>65670</th>\n",
       "      <td>8401</td>\n",
       "      <td>717123</td>\n",
       "      <td>8</td>\n",
       "      <td>109</td>\n",
       "    </tr>\n",
       "    <tr>\n",
       "      <th>65671</th>\n",
       "      <td>9204</td>\n",
       "      <td>720210</td>\n",
       "      <td>1</td>\n",
       "      <td>154</td>\n",
       "    </tr>\n",
       "  </tbody>\n",
       "</table>\n",
       "<p>65672 rows × 4 columns</p>\n",
       "</div>"
      ],
      "text/plain": [
       "      MatGR  VendorCodeC Order_Quantity Completed_days\n",
       "0      8325       701185             40             45\n",
       "1      8325       701185             40             45\n",
       "2      8325       701185             50             45\n",
       "3      8325       701185             50             45\n",
       "4      8325       701185             50             45\n",
       "...     ...          ...            ...            ...\n",
       "65667  8407       905637            300            193\n",
       "65668  8406       905637              6            193\n",
       "65669  8401       717123             88            109\n",
       "65670  8401       717123              8            109\n",
       "65671  9204       720210              1            154\n",
       "\n",
       "[65672 rows x 4 columns]"
      ]
     },
     "execution_count": 4,
     "metadata": {},
     "output_type": "execute_result"
    }
   ],
   "source": [
    "newdata"
   ]
  },
  {
   "cell_type": "code",
   "execution_count": 5,
   "id": "743addab",
   "metadata": {},
   "outputs": [
    {
     "data": {
      "text/plain": [
       "MatGR             0\n",
       "VendorCodeC       0\n",
       "Order_Quantity    0\n",
       "Completed_days    0\n",
       "dtype: int64"
      ]
     },
     "execution_count": 5,
     "metadata": {},
     "output_type": "execute_result"
    }
   ],
   "source": [
    "newdata.isnull().sum()"
   ]
  },
  {
   "cell_type": "code",
   "execution_count": 6,
   "id": "720f1fb7",
   "metadata": {},
   "outputs": [
    {
     "data": {
      "text/plain": [
       "MatGR             False\n",
       "VendorCodeC       False\n",
       "Order_Quantity    False\n",
       "Completed_days    False\n",
       "dtype: bool"
      ]
     },
     "execution_count": 6,
     "metadata": {},
     "output_type": "execute_result"
    }
   ],
   "source": [
    "newdata.isnull().any()"
   ]
  },
  {
   "cell_type": "code",
   "execution_count": 7,
   "id": "da3df2b0",
   "metadata": {},
   "outputs": [],
   "source": [
    "import seaborn as sns\n",
    "import os"
   ]
  },
  {
   "cell_type": "code",
   "execution_count": 8,
   "id": "002e2eb6",
   "metadata": {},
   "outputs": [
    {
     "data": {
      "text/plain": [
       "<Axes: >"
      ]
     },
     "execution_count": 8,
     "metadata": {},
     "output_type": "execute_result"
    },
    {
     "data": {
      "image/png": "[encoded data removed]",
      "text/plain": [
       "<Figure size 640x480 with 2 Axes>"
      ]
     },
     "metadata": {},
     "output_type": "display_data"
    }
   ],
   "source": [
    "sns.heatmap(newdata.isnull(), yticklabels = False)"
   ]
  },
  {
   "cell_type": "code",
   "execution_count": 9,
   "id": "0e58ceb1",
   "metadata": {},
   "outputs": [],
   "source": [
    "#Finding and replacing missing values\n",
    "missing_values = [\"#VALUE!\", \"#NUM!\"]\n",
    "newdata = pd.read_csv(\"D:\\\\downloads d drive\\\\PrcTraining.csv\", low_memory=False, na_values = missing_values)"
   ]
  },
  {
   "cell_type": "code",
   "execution_count": 10,
   "id": "6f6c7185",
   "metadata": {},
   "outputs": [
    {
     "data": {
      "text/plain": [
       "Document_Date                  0\n",
       "MatGR                         55\n",
       "MaterialC                    819\n",
       "PlantC                         0\n",
       "VendorCodeC                    0\n",
       "Order_Unit                     0\n",
       "Order_Quantity                 0\n",
       "Delivery_date                  0\n",
       "Still_to_be_delivered_qty      0\n",
       "Price_unit                     0\n",
       "Net_price                      0\n",
       "Net_Order_Value                0\n",
       "Tracking                     936\n",
       "Completed_days                 6\n",
       "dtype: int64"
      ]
     },
     "execution_count": 10,
     "metadata": {},
     "output_type": "execute_result"
    }
   ],
   "source": [
    "newdata.isnull().sum()"
   ]
  },
  {
   "cell_type": "code",
   "execution_count": 11,
   "id": "e3f060d1",
   "metadata": {},
   "outputs": [
    {
     "data": {
      "text/plain": [
       "<Axes: >"
      ]
     },
     "execution_count": 11,
     "metadata": {},
     "output_type": "execute_result"
    },
    {
     "data": {
      "image/png": "[encoded data removed]",
      "text/plain": [
       "<Figure size 640x480 with 2 Axes>"
      ]
     },
     "metadata": {},
     "output_type": "display_data"
    }
   ],
   "source": [
    "sns.heatmap(newdata.isnull(), yticklabels = False)"
   ]
  },
  {
   "cell_type": "code",
   "execution_count": 12,
   "id": "544815f1",
   "metadata": {},
   "outputs": [
    {
     "data": {
      "text/html": [
       "<div>\n",
       "<style scoped>\n",
       "    .dataframe tbody tr th:only-of-type {\n",
       "        vertical-align: middle;\n",
       "    }\n",
       "\n",
       "    .dataframe tbody tr th {\n",
       "        vertical-align: top;\n",
       "    }\n",
       "\n",
       "    .dataframe thead th {\n",
       "        text-align: right;\n",
       "    }\n",
       "</style>\n",
       "<table border=\"1\" class=\"dataframe\">\n",
       "  <thead>\n",
       "    <tr style=\"text-align: right;\">\n",
       "      <th></th>\n",
       "      <th>Document_Date</th>\n",
       "      <th>MatGR</th>\n",
       "      <th>MaterialC</th>\n",
       "      <th>PlantC</th>\n",
       "      <th>VendorCodeC</th>\n",
       "      <th>Order_Unit</th>\n",
       "      <th>Order_Quantity</th>\n",
       "      <th>Delivery_date</th>\n",
       "      <th>Still_to_be_delivered_qty</th>\n",
       "      <th>Price_unit</th>\n",
       "      <th>Net_price</th>\n",
       "      <th>Net_Order_Value</th>\n",
       "      <th>Tracking</th>\n",
       "      <th>Completed_days</th>\n",
       "    </tr>\n",
       "  </thead>\n",
       "  <tbody>\n",
       "    <tr>\n",
       "      <th>0</th>\n",
       "      <td>1/1/2019</td>\n",
       "      <td>8325.0</td>\n",
       "      <td>1.896020e+10</td>\n",
       "      <td>24</td>\n",
       "      <td>701185</td>\n",
       "      <td>EA</td>\n",
       "      <td>40</td>\n",
       "      <td>2/15/2019</td>\n",
       "      <td>0</td>\n",
       "      <td>1</td>\n",
       "      <td>17,320.00</td>\n",
       "      <td>692,800.00</td>\n",
       "      <td>4.0</td>\n",
       "      <td>45.0</td>\n",
       "    </tr>\n",
       "    <tr>\n",
       "      <th>1</th>\n",
       "      <td>1/1/2019</td>\n",
       "      <td>8325.0</td>\n",
       "      <td>1.896024e+10</td>\n",
       "      <td>24</td>\n",
       "      <td>701185</td>\n",
       "      <td>EA</td>\n",
       "      <td>40</td>\n",
       "      <td>2/15/2019</td>\n",
       "      <td>0</td>\n",
       "      <td>1</td>\n",
       "      <td>11,678.04</td>\n",
       "      <td>467,121.60</td>\n",
       "      <td>4.0</td>\n",
       "      <td>45.0</td>\n",
       "    </tr>\n",
       "    <tr>\n",
       "      <th>2</th>\n",
       "      <td>1/1/2019</td>\n",
       "      <td>8325.0</td>\n",
       "      <td>1.896020e+10</td>\n",
       "      <td>24</td>\n",
       "      <td>701185</td>\n",
       "      <td>EA</td>\n",
       "      <td>50</td>\n",
       "      <td>2/15/2019</td>\n",
       "      <td>0</td>\n",
       "      <td>1</td>\n",
       "      <td>2,150.00</td>\n",
       "      <td>107,500.00</td>\n",
       "      <td>4.0</td>\n",
       "      <td>45.0</td>\n",
       "    </tr>\n",
       "    <tr>\n",
       "      <th>3</th>\n",
       "      <td>1/1/2019</td>\n",
       "      <td>8325.0</td>\n",
       "      <td>1.896020e+10</td>\n",
       "      <td>24</td>\n",
       "      <td>701185</td>\n",
       "      <td>EA</td>\n",
       "      <td>50</td>\n",
       "      <td>2/15/2019</td>\n",
       "      <td>0</td>\n",
       "      <td>1</td>\n",
       "      <td>1,675.00</td>\n",
       "      <td>83,750.00</td>\n",
       "      <td>4.0</td>\n",
       "      <td>45.0</td>\n",
       "    </tr>\n",
       "    <tr>\n",
       "      <th>4</th>\n",
       "      <td>1/1/2019</td>\n",
       "      <td>8325.0</td>\n",
       "      <td>1.896020e+10</td>\n",
       "      <td>24</td>\n",
       "      <td>701185</td>\n",
       "      <td>EA</td>\n",
       "      <td>50</td>\n",
       "      <td>2/15/2019</td>\n",
       "      <td>0</td>\n",
       "      <td>1</td>\n",
       "      <td>1,675.00</td>\n",
       "      <td>83,750.00</td>\n",
       "      <td>4.0</td>\n",
       "      <td>45.0</td>\n",
       "    </tr>\n",
       "    <tr>\n",
       "      <th>...</th>\n",
       "      <td>...</td>\n",
       "      <td>...</td>\n",
       "      <td>...</td>\n",
       "      <td>...</td>\n",
       "      <td>...</td>\n",
       "      <td>...</td>\n",
       "      <td>...</td>\n",
       "      <td>...</td>\n",
       "      <td>...</td>\n",
       "      <td>...</td>\n",
       "      <td>...</td>\n",
       "      <td>...</td>\n",
       "      <td>...</td>\n",
       "      <td>...</td>\n",
       "    </tr>\n",
       "    <tr>\n",
       "      <th>65667</th>\n",
       "      <td>8/22/2022</td>\n",
       "      <td>8407.0</td>\n",
       "      <td>1.644004e+10</td>\n",
       "      <td>21</td>\n",
       "      <td>905637</td>\n",
       "      <td>M</td>\n",
       "      <td>300</td>\n",
       "      <td>3/3/2023</td>\n",
       "      <td>0</td>\n",
       "      <td>1</td>\n",
       "      <td>152.00</td>\n",
       "      <td>45,600.00</td>\n",
       "      <td>1.0</td>\n",
       "      <td>193.0</td>\n",
       "    </tr>\n",
       "    <tr>\n",
       "      <th>65668</th>\n",
       "      <td>8/22/2022</td>\n",
       "      <td>8406.0</td>\n",
       "      <td>1.644020e+10</td>\n",
       "      <td>21</td>\n",
       "      <td>905637</td>\n",
       "      <td>EA</td>\n",
       "      <td>6</td>\n",
       "      <td>3/3/2023</td>\n",
       "      <td>0</td>\n",
       "      <td>1</td>\n",
       "      <td>4,545.00</td>\n",
       "      <td>27,270.00</td>\n",
       "      <td>1.0</td>\n",
       "      <td>193.0</td>\n",
       "    </tr>\n",
       "    <tr>\n",
       "      <th>65669</th>\n",
       "      <td>12/5/2022</td>\n",
       "      <td>8401.0</td>\n",
       "      <td>2.020213e+09</td>\n",
       "      <td>21</td>\n",
       "      <td>717123</td>\n",
       "      <td>EA</td>\n",
       "      <td>88</td>\n",
       "      <td>3/24/2023</td>\n",
       "      <td>0</td>\n",
       "      <td>1</td>\n",
       "      <td>1,249.15</td>\n",
       "      <td>109,925.20</td>\n",
       "      <td>1.0</td>\n",
       "      <td>109.0</td>\n",
       "    </tr>\n",
       "    <tr>\n",
       "      <th>65670</th>\n",
       "      <td>12/5/2022</td>\n",
       "      <td>8401.0</td>\n",
       "      <td>2.020214e+09</td>\n",
       "      <td>21</td>\n",
       "      <td>717123</td>\n",
       "      <td>EA</td>\n",
       "      <td>8</td>\n",
       "      <td>3/24/2023</td>\n",
       "      <td>0</td>\n",
       "      <td>1</td>\n",
       "      <td>1,249.15</td>\n",
       "      <td>9,993.20</td>\n",
       "      <td>1.0</td>\n",
       "      <td>109.0</td>\n",
       "    </tr>\n",
       "    <tr>\n",
       "      <th>65671</th>\n",
       "      <td>10/27/2022</td>\n",
       "      <td>9204.0</td>\n",
       "      <td>4.390602e+09</td>\n",
       "      <td>21</td>\n",
       "      <td>720210</td>\n",
       "      <td>EA</td>\n",
       "      <td>1</td>\n",
       "      <td>3/30/2023</td>\n",
       "      <td>1</td>\n",
       "      <td>1</td>\n",
       "      <td>1,129,862.71</td>\n",
       "      <td>1,129,862.71</td>\n",
       "      <td>1.0</td>\n",
       "      <td>154.0</td>\n",
       "    </tr>\n",
       "  </tbody>\n",
       "</table>\n",
       "<p>65672 rows × 14 columns</p>\n",
       "</div>"
      ],
      "text/plain": [
       "      Document_Date   MatGR     MaterialC  PlantC  VendorCodeC Order_Unit   \n",
       "0          1/1/2019  8325.0  1.896020e+10      24       701185         EA  \\\n",
       "1          1/1/2019  8325.0  1.896024e+10      24       701185         EA   \n",
       "2          1/1/2019  8325.0  1.896020e+10      24       701185         EA   \n",
       "3          1/1/2019  8325.0  1.896020e+10      24       701185         EA   \n",
       "4          1/1/2019  8325.0  1.896020e+10      24       701185         EA   \n",
       "...             ...     ...           ...     ...          ...        ...   \n",
       "65667     8/22/2022  8407.0  1.644004e+10      21       905637          M   \n",
       "65668     8/22/2022  8406.0  1.644020e+10      21       905637         EA   \n",
       "65669     12/5/2022  8401.0  2.020213e+09      21       717123         EA   \n",
       "65670     12/5/2022  8401.0  2.020214e+09      21       717123         EA   \n",
       "65671    10/27/2022  9204.0  4.390602e+09      21       720210         EA   \n",
       "\n",
       "      Order_Quantity Delivery_date Still_to_be_delivered_qty Price_unit   \n",
       "0                 40     2/15/2019                         0          1  \\\n",
       "1                 40     2/15/2019                         0          1   \n",
       "2                 50     2/15/2019                         0          1   \n",
       "3                 50     2/15/2019                         0          1   \n",
       "4                 50     2/15/2019                         0          1   \n",
       "...              ...           ...                       ...        ...   \n",
       "65667            300      3/3/2023                         0          1   \n",
       "65668              6      3/3/2023                         0          1   \n",
       "65669             88     3/24/2023                         0          1   \n",
       "65670              8     3/24/2023                         0          1   \n",
       "65671              1     3/30/2023                         1          1   \n",
       "\n",
       "          Net_price Net_Order_Value  Tracking  Completed_days  \n",
       "0         17,320.00      692,800.00       4.0            45.0  \n",
       "1         11,678.04      467,121.60       4.0            45.0  \n",
       "2          2,150.00      107,500.00       4.0            45.0  \n",
       "3          1,675.00       83,750.00       4.0            45.0  \n",
       "4          1,675.00       83,750.00       4.0            45.0  \n",
       "...             ...             ...       ...             ...  \n",
       "65667        152.00       45,600.00       1.0           193.0  \n",
       "65668      4,545.00       27,270.00       1.0           193.0  \n",
       "65669      1,249.15      109,925.20       1.0           109.0  \n",
       "65670      1,249.15        9,993.20       1.0           109.0  \n",
       "65671  1,129,862.71    1,129,862.71       1.0           154.0  \n",
       "\n",
       "[65672 rows x 14 columns]"
      ]
     },
     "execution_count": 12,
     "metadata": {},
     "output_type": "execute_result"
    }
   ],
   "source": [
    "#Remove these #VALUE! value\n",
    "newdata"
   ]
  },
  {
   "cell_type": "code",
   "execution_count": 13,
   "id": "a1cbe69c",
   "metadata": {},
   "outputs": [
    {
     "data": {
      "text/html": [
       "<div>\n",
       "<style scoped>\n",
       "    .dataframe tbody tr th:only-of-type {\n",
       "        vertical-align: middle;\n",
       "    }\n",
       "\n",
       "    .dataframe tbody tr th {\n",
       "        vertical-align: top;\n",
       "    }\n",
       "\n",
       "    .dataframe thead th {\n",
       "        text-align: right;\n",
       "    }\n",
       "</style>\n",
       "<table border=\"1\" class=\"dataframe\">\n",
       "  <thead>\n",
       "    <tr style=\"text-align: right;\">\n",
       "      <th></th>\n",
       "      <th>Document_Date</th>\n",
       "      <th>MatGR</th>\n",
       "      <th>MaterialC</th>\n",
       "      <th>PlantC</th>\n",
       "      <th>VendorCodeC</th>\n",
       "      <th>Order_Unit</th>\n",
       "      <th>Order_Quantity</th>\n",
       "      <th>Delivery_date</th>\n",
       "      <th>Still_to_be_delivered_qty</th>\n",
       "      <th>Price_unit</th>\n",
       "      <th>Net_price</th>\n",
       "      <th>Net_Order_Value</th>\n",
       "      <th>Tracking</th>\n",
       "      <th>Completed_days</th>\n",
       "    </tr>\n",
       "  </thead>\n",
       "  <tbody>\n",
       "    <tr>\n",
       "      <th>0</th>\n",
       "      <td>1/1/2019</td>\n",
       "      <td>8325.0</td>\n",
       "      <td>1.896020e+10</td>\n",
       "      <td>24</td>\n",
       "      <td>701185</td>\n",
       "      <td>EA</td>\n",
       "      <td>40</td>\n",
       "      <td>2/15/2019</td>\n",
       "      <td>0</td>\n",
       "      <td>1</td>\n",
       "      <td>17,320.00</td>\n",
       "      <td>692,800.00</td>\n",
       "      <td>4.0</td>\n",
       "      <td>45.0</td>\n",
       "    </tr>\n",
       "    <tr>\n",
       "      <th>1</th>\n",
       "      <td>1/1/2019</td>\n",
       "      <td>8325.0</td>\n",
       "      <td>1.896024e+10</td>\n",
       "      <td>24</td>\n",
       "      <td>701185</td>\n",
       "      <td>EA</td>\n",
       "      <td>40</td>\n",
       "      <td>2/15/2019</td>\n",
       "      <td>0</td>\n",
       "      <td>1</td>\n",
       "      <td>11,678.04</td>\n",
       "      <td>467,121.60</td>\n",
       "      <td>4.0</td>\n",
       "      <td>45.0</td>\n",
       "    </tr>\n",
       "    <tr>\n",
       "      <th>2</th>\n",
       "      <td>1/1/2019</td>\n",
       "      <td>8325.0</td>\n",
       "      <td>1.896020e+10</td>\n",
       "      <td>24</td>\n",
       "      <td>701185</td>\n",
       "      <td>EA</td>\n",
       "      <td>50</td>\n",
       "      <td>2/15/2019</td>\n",
       "      <td>0</td>\n",
       "      <td>1</td>\n",
       "      <td>2,150.00</td>\n",
       "      <td>107,500.00</td>\n",
       "      <td>4.0</td>\n",
       "      <td>45.0</td>\n",
       "    </tr>\n",
       "    <tr>\n",
       "      <th>3</th>\n",
       "      <td>1/1/2019</td>\n",
       "      <td>8325.0</td>\n",
       "      <td>1.896020e+10</td>\n",
       "      <td>24</td>\n",
       "      <td>701185</td>\n",
       "      <td>EA</td>\n",
       "      <td>50</td>\n",
       "      <td>2/15/2019</td>\n",
       "      <td>0</td>\n",
       "      <td>1</td>\n",
       "      <td>1,675.00</td>\n",
       "      <td>83,750.00</td>\n",
       "      <td>4.0</td>\n",
       "      <td>45.0</td>\n",
       "    </tr>\n",
       "    <tr>\n",
       "      <th>4</th>\n",
       "      <td>1/1/2019</td>\n",
       "      <td>8325.0</td>\n",
       "      <td>1.896020e+10</td>\n",
       "      <td>24</td>\n",
       "      <td>701185</td>\n",
       "      <td>EA</td>\n",
       "      <td>50</td>\n",
       "      <td>2/15/2019</td>\n",
       "      <td>0</td>\n",
       "      <td>1</td>\n",
       "      <td>1,675.00</td>\n",
       "      <td>83,750.00</td>\n",
       "      <td>4.0</td>\n",
       "      <td>45.0</td>\n",
       "    </tr>\n",
       "    <tr>\n",
       "      <th>...</th>\n",
       "      <td>...</td>\n",
       "      <td>...</td>\n",
       "      <td>...</td>\n",
       "      <td>...</td>\n",
       "      <td>...</td>\n",
       "      <td>...</td>\n",
       "      <td>...</td>\n",
       "      <td>...</td>\n",
       "      <td>...</td>\n",
       "      <td>...</td>\n",
       "      <td>...</td>\n",
       "      <td>...</td>\n",
       "      <td>...</td>\n",
       "      <td>...</td>\n",
       "    </tr>\n",
       "    <tr>\n",
       "      <th>65667</th>\n",
       "      <td>8/22/2022</td>\n",
       "      <td>8407.0</td>\n",
       "      <td>1.644004e+10</td>\n",
       "      <td>21</td>\n",
       "      <td>905637</td>\n",
       "      <td>M</td>\n",
       "      <td>300</td>\n",
       "      <td>3/3/2023</td>\n",
       "      <td>0</td>\n",
       "      <td>1</td>\n",
       "      <td>152.00</td>\n",
       "      <td>45,600.00</td>\n",
       "      <td>1.0</td>\n",
       "      <td>193.0</td>\n",
       "    </tr>\n",
       "    <tr>\n",
       "      <th>65668</th>\n",
       "      <td>8/22/2022</td>\n",
       "      <td>8406.0</td>\n",
       "      <td>1.644020e+10</td>\n",
       "      <td>21</td>\n",
       "      <td>905637</td>\n",
       "      <td>EA</td>\n",
       "      <td>6</td>\n",
       "      <td>3/3/2023</td>\n",
       "      <td>0</td>\n",
       "      <td>1</td>\n",
       "      <td>4,545.00</td>\n",
       "      <td>27,270.00</td>\n",
       "      <td>1.0</td>\n",
       "      <td>193.0</td>\n",
       "    </tr>\n",
       "    <tr>\n",
       "      <th>65669</th>\n",
       "      <td>12/5/2022</td>\n",
       "      <td>8401.0</td>\n",
       "      <td>2.020213e+09</td>\n",
       "      <td>21</td>\n",
       "      <td>717123</td>\n",
       "      <td>EA</td>\n",
       "      <td>88</td>\n",
       "      <td>3/24/2023</td>\n",
       "      <td>0</td>\n",
       "      <td>1</td>\n",
       "      <td>1,249.15</td>\n",
       "      <td>109,925.20</td>\n",
       "      <td>1.0</td>\n",
       "      <td>109.0</td>\n",
       "    </tr>\n",
       "    <tr>\n",
       "      <th>65670</th>\n",
       "      <td>12/5/2022</td>\n",
       "      <td>8401.0</td>\n",
       "      <td>2.020214e+09</td>\n",
       "      <td>21</td>\n",
       "      <td>717123</td>\n",
       "      <td>EA</td>\n",
       "      <td>8</td>\n",
       "      <td>3/24/2023</td>\n",
       "      <td>0</td>\n",
       "      <td>1</td>\n",
       "      <td>1,249.15</td>\n",
       "      <td>9,993.20</td>\n",
       "      <td>1.0</td>\n",
       "      <td>109.0</td>\n",
       "    </tr>\n",
       "    <tr>\n",
       "      <th>65671</th>\n",
       "      <td>10/27/2022</td>\n",
       "      <td>9204.0</td>\n",
       "      <td>4.390602e+09</td>\n",
       "      <td>21</td>\n",
       "      <td>720210</td>\n",
       "      <td>EA</td>\n",
       "      <td>1</td>\n",
       "      <td>3/30/2023</td>\n",
       "      <td>1</td>\n",
       "      <td>1</td>\n",
       "      <td>1,129,862.71</td>\n",
       "      <td>1,129,862.71</td>\n",
       "      <td>1.0</td>\n",
       "      <td>154.0</td>\n",
       "    </tr>\n",
       "  </tbody>\n",
       "</table>\n",
       "<p>64368 rows × 14 columns</p>\n",
       "</div>"
      ],
      "text/plain": [
       "      Document_Date   MatGR     MaterialC  PlantC  VendorCodeC Order_Unit   \n",
       "0          1/1/2019  8325.0  1.896020e+10      24       701185         EA  \\\n",
       "1          1/1/2019  8325.0  1.896024e+10      24       701185         EA   \n",
       "2          1/1/2019  8325.0  1.896020e+10      24       701185         EA   \n",
       "3          1/1/2019  8325.0  1.896020e+10      24       701185         EA   \n",
       "4          1/1/2019  8325.0  1.896020e+10      24       701185         EA   \n",
       "...             ...     ...           ...     ...          ...        ...   \n",
       "65667     8/22/2022  8407.0  1.644004e+10      21       905637          M   \n",
       "65668     8/22/2022  8406.0  1.644020e+10      21       905637         EA   \n",
       "65669     12/5/2022  8401.0  2.020213e+09      21       717123         EA   \n",
       "65670     12/5/2022  8401.0  2.020214e+09      21       717123         EA   \n",
       "65671    10/27/2022  9204.0  4.390602e+09      21       720210         EA   \n",
       "\n",
       "      Order_Quantity Delivery_date Still_to_be_delivered_qty Price_unit   \n",
       "0                 40     2/15/2019                         0          1  \\\n",
       "1                 40     2/15/2019                         0          1   \n",
       "2                 50     2/15/2019                         0          1   \n",
       "3                 50     2/15/2019                         0          1   \n",
       "4                 50     2/15/2019                         0          1   \n",
       "...              ...           ...                       ...        ...   \n",
       "65667            300      3/3/2023                         0          1   \n",
       "65668              6      3/3/2023                         0          1   \n",
       "65669             88     3/24/2023                         0          1   \n",
       "65670              8     3/24/2023                         0          1   \n",
       "65671              1     3/30/2023                         1          1   \n",
       "\n",
       "          Net_price Net_Order_Value  Tracking  Completed_days  \n",
       "0         17,320.00      692,800.00       4.0            45.0  \n",
       "1         11,678.04      467,121.60       4.0            45.0  \n",
       "2          2,150.00      107,500.00       4.0            45.0  \n",
       "3          1,675.00       83,750.00       4.0            45.0  \n",
       "4          1,675.00       83,750.00       4.0            45.0  \n",
       "...             ...             ...       ...             ...  \n",
       "65667        152.00       45,600.00       1.0           193.0  \n",
       "65668      4,545.00       27,270.00       1.0           193.0  \n",
       "65669      1,249.15      109,925.20       1.0           109.0  \n",
       "65670      1,249.15        9,993.20       1.0           109.0  \n",
       "65671  1,129,862.71    1,129,862.71       1.0           154.0  \n",
       "\n",
       "[64368 rows x 14 columns]"
      ]
     },
     "execution_count": 13,
     "metadata": {},
     "output_type": "execute_result"
    }
   ],
   "source": [
    "data1 = newdata.dropna()\n",
    "data1"
   ]
  },
  {
   "cell_type": "code",
   "execution_count": 14,
   "id": "5c38e7d3",
   "metadata": {},
   "outputs": [],
   "source": [
    "data2 = data1.drop(['Document_Date', 'MaterialC', 'Order_Unit', 'Delivery_date', 'Still_to_be_delivered_qty', 'Price_unit', 'Net_price', 'Net_Order_Value', 'Tracking'], axis = 1)"
   ]
  },
  {
   "cell_type": "code",
   "execution_count": 15,
   "id": "9d97d244",
   "metadata": {
    "scrolled": true
   },
   "outputs": [
    {
     "data": {
      "text/html": [
       "<div>\n",
       "<style scoped>\n",
       "    .dataframe tbody tr th:only-of-type {\n",
       "        vertical-align: middle;\n",
       "    }\n",
       "\n",
       "    .dataframe tbody tr th {\n",
       "        vertical-align: top;\n",
       "    }\n",
       "\n",
       "    .dataframe thead th {\n",
       "        text-align: right;\n",
       "    }\n",
       "</style>\n",
       "<table border=\"1\" class=\"dataframe\">\n",
       "  <thead>\n",
       "    <tr style=\"text-align: right;\">\n",
       "      <th></th>\n",
       "      <th>MatGR</th>\n",
       "      <th>PlantC</th>\n",
       "      <th>VendorCodeC</th>\n",
       "      <th>Order_Quantity</th>\n",
       "      <th>Completed_days</th>\n",
       "    </tr>\n",
       "  </thead>\n",
       "  <tbody>\n",
       "    <tr>\n",
       "      <th>0</th>\n",
       "      <td>8325.0</td>\n",
       "      <td>24</td>\n",
       "      <td>701185</td>\n",
       "      <td>40</td>\n",
       "      <td>45.0</td>\n",
       "    </tr>\n",
       "    <tr>\n",
       "      <th>1</th>\n",
       "      <td>8325.0</td>\n",
       "      <td>24</td>\n",
       "      <td>701185</td>\n",
       "      <td>40</td>\n",
       "      <td>45.0</td>\n",
       "    </tr>\n",
       "    <tr>\n",
       "      <th>2</th>\n",
       "      <td>8325.0</td>\n",
       "      <td>24</td>\n",
       "      <td>701185</td>\n",
       "      <td>50</td>\n",
       "      <td>45.0</td>\n",
       "    </tr>\n",
       "    <tr>\n",
       "      <th>3</th>\n",
       "      <td>8325.0</td>\n",
       "      <td>24</td>\n",
       "      <td>701185</td>\n",
       "      <td>50</td>\n",
       "      <td>45.0</td>\n",
       "    </tr>\n",
       "    <tr>\n",
       "      <th>4</th>\n",
       "      <td>8325.0</td>\n",
       "      <td>24</td>\n",
       "      <td>701185</td>\n",
       "      <td>50</td>\n",
       "      <td>45.0</td>\n",
       "    </tr>\n",
       "    <tr>\n",
       "      <th>...</th>\n",
       "      <td>...</td>\n",
       "      <td>...</td>\n",
       "      <td>...</td>\n",
       "      <td>...</td>\n",
       "      <td>...</td>\n",
       "    </tr>\n",
       "    <tr>\n",
       "      <th>65667</th>\n",
       "      <td>8407.0</td>\n",
       "      <td>21</td>\n",
       "      <td>905637</td>\n",
       "      <td>300</td>\n",
       "      <td>193.0</td>\n",
       "    </tr>\n",
       "    <tr>\n",
       "      <th>65668</th>\n",
       "      <td>8406.0</td>\n",
       "      <td>21</td>\n",
       "      <td>905637</td>\n",
       "      <td>6</td>\n",
       "      <td>193.0</td>\n",
       "    </tr>\n",
       "    <tr>\n",
       "      <th>65669</th>\n",
       "      <td>8401.0</td>\n",
       "      <td>21</td>\n",
       "      <td>717123</td>\n",
       "      <td>88</td>\n",
       "      <td>109.0</td>\n",
       "    </tr>\n",
       "    <tr>\n",
       "      <th>65670</th>\n",
       "      <td>8401.0</td>\n",
       "      <td>21</td>\n",
       "      <td>717123</td>\n",
       "      <td>8</td>\n",
       "      <td>109.0</td>\n",
       "    </tr>\n",
       "    <tr>\n",
       "      <th>65671</th>\n",
       "      <td>9204.0</td>\n",
       "      <td>21</td>\n",
       "      <td>720210</td>\n",
       "      <td>1</td>\n",
       "      <td>154.0</td>\n",
       "    </tr>\n",
       "  </tbody>\n",
       "</table>\n",
       "<p>64368 rows × 5 columns</p>\n",
       "</div>"
      ],
      "text/plain": [
       "        MatGR  PlantC  VendorCodeC Order_Quantity  Completed_days\n",
       "0      8325.0      24       701185             40            45.0\n",
       "1      8325.0      24       701185             40            45.0\n",
       "2      8325.0      24       701185             50            45.0\n",
       "3      8325.0      24       701185             50            45.0\n",
       "4      8325.0      24       701185             50            45.0\n",
       "...       ...     ...          ...            ...             ...\n",
       "65667  8407.0      21       905637            300           193.0\n",
       "65668  8406.0      21       905637              6           193.0\n",
       "65669  8401.0      21       717123             88           109.0\n",
       "65670  8401.0      21       717123              8           109.0\n",
       "65671  9204.0      21       720210              1           154.0\n",
       "\n",
       "[64368 rows x 5 columns]"
      ]
     },
     "execution_count": 15,
     "metadata": {},
     "output_type": "execute_result"
    }
   ],
   "source": [
    "data2"
   ]
  },
  {
   "cell_type": "code",
   "execution_count": 16,
   "id": "64914947",
   "metadata": {},
   "outputs": [
    {
     "data": {
      "text/html": [
       "<div>\n",
       "<style scoped>\n",
       "    .dataframe tbody tr th:only-of-type {\n",
       "        vertical-align: middle;\n",
       "    }\n",
       "\n",
       "    .dataframe tbody tr th {\n",
       "        vertical-align: top;\n",
       "    }\n",
       "\n",
       "    .dataframe thead th {\n",
       "        text-align: right;\n",
       "    }\n",
       "</style>\n",
       "<table border=\"1\" class=\"dataframe\">\n",
       "  <thead>\n",
       "    <tr style=\"text-align: right;\">\n",
       "      <th></th>\n",
       "      <th>MatGR</th>\n",
       "      <th>PlantC</th>\n",
       "      <th>VendorCodeC</th>\n",
       "      <th>Order_Quantity</th>\n",
       "      <th>Completed_days</th>\n",
       "    </tr>\n",
       "  </thead>\n",
       "  <tbody>\n",
       "    <tr>\n",
       "      <th>0</th>\n",
       "      <td>8325.0</td>\n",
       "      <td>24</td>\n",
       "      <td>701185</td>\n",
       "      <td>40</td>\n",
       "      <td>45.0</td>\n",
       "    </tr>\n",
       "    <tr>\n",
       "      <th>1</th>\n",
       "      <td>8325.0</td>\n",
       "      <td>24</td>\n",
       "      <td>701185</td>\n",
       "      <td>40</td>\n",
       "      <td>45.0</td>\n",
       "    </tr>\n",
       "    <tr>\n",
       "      <th>2</th>\n",
       "      <td>8325.0</td>\n",
       "      <td>24</td>\n",
       "      <td>701185</td>\n",
       "      <td>50</td>\n",
       "      <td>45.0</td>\n",
       "    </tr>\n",
       "    <tr>\n",
       "      <th>3</th>\n",
       "      <td>8325.0</td>\n",
       "      <td>24</td>\n",
       "      <td>701185</td>\n",
       "      <td>50</td>\n",
       "      <td>45.0</td>\n",
       "    </tr>\n",
       "    <tr>\n",
       "      <th>4</th>\n",
       "      <td>8325.0</td>\n",
       "      <td>24</td>\n",
       "      <td>701185</td>\n",
       "      <td>50</td>\n",
       "      <td>45.0</td>\n",
       "    </tr>\n",
       "    <tr>\n",
       "      <th>...</th>\n",
       "      <td>...</td>\n",
       "      <td>...</td>\n",
       "      <td>...</td>\n",
       "      <td>...</td>\n",
       "      <td>...</td>\n",
       "    </tr>\n",
       "    <tr>\n",
       "      <th>65667</th>\n",
       "      <td>8407.0</td>\n",
       "      <td>21</td>\n",
       "      <td>905637</td>\n",
       "      <td>300</td>\n",
       "      <td>193.0</td>\n",
       "    </tr>\n",
       "    <tr>\n",
       "      <th>65668</th>\n",
       "      <td>8406.0</td>\n",
       "      <td>21</td>\n",
       "      <td>905637</td>\n",
       "      <td>6</td>\n",
       "      <td>193.0</td>\n",
       "    </tr>\n",
       "    <tr>\n",
       "      <th>65669</th>\n",
       "      <td>8401.0</td>\n",
       "      <td>21</td>\n",
       "      <td>717123</td>\n",
       "      <td>88</td>\n",
       "      <td>109.0</td>\n",
       "    </tr>\n",
       "    <tr>\n",
       "      <th>65670</th>\n",
       "      <td>8401.0</td>\n",
       "      <td>21</td>\n",
       "      <td>717123</td>\n",
       "      <td>8</td>\n",
       "      <td>109.0</td>\n",
       "    </tr>\n",
       "    <tr>\n",
       "      <th>65671</th>\n",
       "      <td>9204.0</td>\n",
       "      <td>21</td>\n",
       "      <td>720210</td>\n",
       "      <td>1</td>\n",
       "      <td>154.0</td>\n",
       "    </tr>\n",
       "  </tbody>\n",
       "</table>\n",
       "<p>64368 rows × 5 columns</p>\n",
       "</div>"
      ],
      "text/plain": [
       "        MatGR  PlantC  VendorCodeC Order_Quantity  Completed_days\n",
       "0      8325.0      24       701185             40            45.0\n",
       "1      8325.0      24       701185             40            45.0\n",
       "2      8325.0      24       701185             50            45.0\n",
       "3      8325.0      24       701185             50            45.0\n",
       "4      8325.0      24       701185             50            45.0\n",
       "...       ...     ...          ...            ...             ...\n",
       "65667  8407.0      21       905637            300           193.0\n",
       "65668  8406.0      21       905637              6           193.0\n",
       "65669  8401.0      21       717123             88           109.0\n",
       "65670  8401.0      21       717123              8           109.0\n",
       "65671  9204.0      21       720210              1           154.0\n",
       "\n",
       "[64368 rows x 5 columns]"
      ]
     },
     "execution_count": 16,
     "metadata": {},
     "output_type": "execute_result"
    }
   ],
   "source": [
    "data2 = data2.replace(',','', regex = True)\n",
    "data2"
   ]
  },
  {
   "cell_type": "code",
   "execution_count": 17,
   "id": "c4642567",
   "metadata": {},
   "outputs": [
    {
     "data": {
      "text/html": [
       "<div>\n",
       "<style scoped>\n",
       "    .dataframe tbody tr th:only-of-type {\n",
       "        vertical-align: middle;\n",
       "    }\n",
       "\n",
       "    .dataframe tbody tr th {\n",
       "        vertical-align: top;\n",
       "    }\n",
       "\n",
       "    .dataframe thead th {\n",
       "        text-align: right;\n",
       "    }\n",
       "</style>\n",
       "<table border=\"1\" class=\"dataframe\">\n",
       "  <thead>\n",
       "    <tr style=\"text-align: right;\">\n",
       "      <th></th>\n",
       "      <th>MatGR</th>\n",
       "      <th>PlantC</th>\n",
       "      <th>Order_Quantity</th>\n",
       "      <th>Completed_days</th>\n",
       "    </tr>\n",
       "  </thead>\n",
       "  <tbody>\n",
       "    <tr>\n",
       "      <th>0</th>\n",
       "      <td>8325.0</td>\n",
       "      <td>24</td>\n",
       "      <td>40</td>\n",
       "      <td>45.0</td>\n",
       "    </tr>\n",
       "    <tr>\n",
       "      <th>1</th>\n",
       "      <td>8325.0</td>\n",
       "      <td>24</td>\n",
       "      <td>40</td>\n",
       "      <td>45.0</td>\n",
       "    </tr>\n",
       "    <tr>\n",
       "      <th>2</th>\n",
       "      <td>8325.0</td>\n",
       "      <td>24</td>\n",
       "      <td>50</td>\n",
       "      <td>45.0</td>\n",
       "    </tr>\n",
       "    <tr>\n",
       "      <th>3</th>\n",
       "      <td>8325.0</td>\n",
       "      <td>24</td>\n",
       "      <td>50</td>\n",
       "      <td>45.0</td>\n",
       "    </tr>\n",
       "    <tr>\n",
       "      <th>4</th>\n",
       "      <td>8325.0</td>\n",
       "      <td>24</td>\n",
       "      <td>50</td>\n",
       "      <td>45.0</td>\n",
       "    </tr>\n",
       "    <tr>\n",
       "      <th>...</th>\n",
       "      <td>...</td>\n",
       "      <td>...</td>\n",
       "      <td>...</td>\n",
       "      <td>...</td>\n",
       "    </tr>\n",
       "    <tr>\n",
       "      <th>65667</th>\n",
       "      <td>8407.0</td>\n",
       "      <td>21</td>\n",
       "      <td>300</td>\n",
       "      <td>193.0</td>\n",
       "    </tr>\n",
       "    <tr>\n",
       "      <th>65668</th>\n",
       "      <td>8406.0</td>\n",
       "      <td>21</td>\n",
       "      <td>6</td>\n",
       "      <td>193.0</td>\n",
       "    </tr>\n",
       "    <tr>\n",
       "      <th>65669</th>\n",
       "      <td>8401.0</td>\n",
       "      <td>21</td>\n",
       "      <td>88</td>\n",
       "      <td>109.0</td>\n",
       "    </tr>\n",
       "    <tr>\n",
       "      <th>65670</th>\n",
       "      <td>8401.0</td>\n",
       "      <td>21</td>\n",
       "      <td>8</td>\n",
       "      <td>109.0</td>\n",
       "    </tr>\n",
       "    <tr>\n",
       "      <th>65671</th>\n",
       "      <td>9204.0</td>\n",
       "      <td>21</td>\n",
       "      <td>1</td>\n",
       "      <td>154.0</td>\n",
       "    </tr>\n",
       "  </tbody>\n",
       "</table>\n",
       "<p>64368 rows × 4 columns</p>\n",
       "</div>"
      ],
      "text/plain": [
       "        MatGR  PlantC Order_Quantity  Completed_days\n",
       "0      8325.0      24             40            45.0\n",
       "1      8325.0      24             40            45.0\n",
       "2      8325.0      24             50            45.0\n",
       "3      8325.0      24             50            45.0\n",
       "4      8325.0      24             50            45.0\n",
       "...       ...     ...            ...             ...\n",
       "65667  8407.0      21            300           193.0\n",
       "65668  8406.0      21              6           193.0\n",
       "65669  8401.0      21             88           109.0\n",
       "65670  8401.0      21              8           109.0\n",
       "65671  9204.0      21              1           154.0\n",
       "\n",
       "[64368 rows x 4 columns]"
      ]
     },
     "execution_count": 17,
     "metadata": {},
     "output_type": "execute_result"
    }
   ],
   "source": [
    "data3 = data2.drop(['VendorCodeC'], axis = 1)\n",
    "data3"
   ]
  },
  {
   "cell_type": "code",
   "execution_count": null,
   "id": "66cdee83",
   "metadata": {},
   "outputs": [],
   "source": []
  },
  {
   "cell_type": "code",
   "execution_count": 18,
   "id": "1454b54a",
   "metadata": {},
   "outputs": [],
   "source": [
    "# Providing the input and output data\n",
    "# Import Numpy Library\n",
    "import numpy as np"
   ]
  },
  {
   "cell_type": "code",
   "execution_count": 19,
   "id": "4c44cba5",
   "metadata": {},
   "outputs": [
    {
     "data": {
      "text/plain": [
       "array([ 45.,  45.,  45., ..., 109., 109., 154.])"
      ]
     },
     "execution_count": 19,
     "metadata": {},
     "output_type": "execute_result"
    }
   ],
   "source": [
    "y = data3['Completed_days'].values\n",
    "y"
   ]
  },
  {
   "cell_type": "code",
   "execution_count": 20,
   "id": "6061551c",
   "metadata": {},
   "outputs": [
    {
     "data": {
      "text/plain": [
       "array([[8325.0, 24, '40'],\n",
       "       [8325.0, 24, '40'],\n",
       "       [8325.0, 24, '50'],\n",
       "       ...,\n",
       "       [8401.0, 21, '88'],\n",
       "       [8401.0, 21, '8'],\n",
       "       [9204.0, 21, '1']], dtype=object)"
      ]
     },
     "execution_count": 20,
     "metadata": {},
     "output_type": "execute_result"
    }
   ],
   "source": [
    "X = data3.drop('Completed_days', axis = 1).values\n",
    "X"
   ]
  },
  {
   "cell_type": "code",
   "execution_count": 21,
   "id": "a7b60069",
   "metadata": {},
   "outputs": [],
   "source": [
    "#X = (X - np.mean(X, axis=0)) / np.std(X, axis=0)\n",
    "#X"
   ]
  },
  {
   "cell_type": "code",
   "execution_count": 22,
   "id": "ae081b97",
   "metadata": {},
   "outputs": [],
   "source": [
    "from sklearn.model_selection import train_test_split\n",
    "\n",
    "X_train, X_test, y_train, y_test = train_test_split(X, y, test_size = 0.40, random_state = 100)"
   ]
  },
  {
   "cell_type": "code",
   "execution_count": 23,
   "id": "804ac02f",
   "metadata": {},
   "outputs": [
    {
     "data": {
      "text/plain": [
       "array([[8401.0, 24, '2'],\n",
       "       [8311.0, 22, '68'],\n",
       "       [8406.0, 22, '1000'],\n",
       "       ...,\n",
       "       [8401.0, 23, '48'],\n",
       "       [8401.0, 22, '2'],\n",
       "       [8308.0, 22, '50.000']], dtype=object)"
      ]
     },
     "execution_count": 23,
     "metadata": {},
     "output_type": "execute_result"
    }
   ],
   "source": [
    "X_train"
   ]
  },
  {
   "cell_type": "code",
   "execution_count": 24,
   "id": "f11ea51c",
   "metadata": {},
   "outputs": [
    {
     "data": {
      "text/plain": [
       "array([[8401.0, 24, '1'],\n",
       "       [8801.0, 24, '10'],\n",
       "       [8406.0, 23, '200'],\n",
       "       ...,\n",
       "       [8406.0, 24, '50'],\n",
       "       [8401.0, 22, '25'],\n",
       "       [9204.0, 23, '3']], dtype=object)"
      ]
     },
     "execution_count": 24,
     "metadata": {},
     "output_type": "execute_result"
    }
   ],
   "source": [
    "X_test"
   ]
  },
  {
   "cell_type": "code",
   "execution_count": 25,
   "id": "d5a31bcb",
   "metadata": {},
   "outputs": [
    {
     "data": {
      "text/plain": [
       "array([161.,  60., 180., ..., 185., 171., 162.])"
      ]
     },
     "execution_count": 25,
     "metadata": {},
     "output_type": "execute_result"
    }
   ],
   "source": [
    "y_train"
   ]
  },
  {
   "cell_type": "code",
   "execution_count": 26,
   "id": "e6870d8e",
   "metadata": {},
   "outputs": [
    {
     "data": {
      "text/plain": [
       "array([189.,  92.,  75., ...,  60.,  78., 194.])"
      ]
     },
     "execution_count": 26,
     "metadata": {},
     "output_type": "execute_result"
    }
   ],
   "source": [
    "y_test"
   ]
  },
  {
   "cell_type": "code",
   "execution_count": 27,
   "id": "b258ec49",
   "metadata": {},
   "outputs": [],
   "source": [
    "#Model Building\n",
    "from sklearn.linear_model import LinearRegression\n",
    "\n",
    "lr = LinearRegression(fit_intercept = True)\n",
    "data3_lr = lr.fit(X_train, y_train)"
   ]
  },
  {
   "cell_type": "code",
   "execution_count": 28,
   "id": "0662af10",
   "metadata": {},
   "outputs": [
    {
     "data": {
      "text/html": [
       "<style>#sk-container-id-1 {color: black;background-color: white;}#sk-container-id-1 pre{padding: 0;}#sk-container-id-1 div.sk-toggleable {background-color: white;}#sk-container-id-1 label.sk-toggleable__label {cursor: pointer;display: block;width: 100%;margin-bottom: 0;padding: 0.3em;box-sizing: border-box;text-align: center;}#sk-container-id-1 label.sk-toggleable__label-arrow:before {content: \"▸\";float: left;margin-right: 0.25em;color: #696969;}#sk-container-id-1 label.sk-toggleable__label-arrow:hover:before {color: black;}#sk-container-id-1 div.sk-estimator:hover label.sk-toggleable__label-arrow:before {color: black;}#sk-container-id-1 div.sk-toggleable__content {max-height: 0;max-width: 0;overflow: hidden;text-align: left;background-color: #f0f8ff;}#sk-container-id-1 div.sk-toggleable__content pre {margin: 0.2em;color: black;border-radius: 0.25em;background-color: #f0f8ff;}#sk-container-id-1 input.sk-toggleable__control:checked~div.sk-toggleable__content {max-height: 200px;max-width: 100%;overflow: auto;}#sk-container-id-1 input.sk-toggleable__control:checked~label.sk-toggleable__label-arrow:before {content: \"▾\";}#sk-container-id-1 div.sk-estimator input.sk-toggleable__control:checked~label.sk-toggleable__label {background-color: #d4ebff;}#sk-container-id-1 div.sk-label input.sk-toggleable__control:checked~label.sk-toggleable__label {background-color: #d4ebff;}#sk-container-id-1 input.sk-hidden--visually {border: 0;clip: rect(1px 1px 1px 1px);clip: rect(1px, 1px, 1px, 1px);height: 1px;margin: -1px;overflow: hidden;padding: 0;position: absolute;width: 1px;}#sk-container-id-1 div.sk-estimator {font-family: monospace;background-color: #f0f8ff;border: 1px dotted black;border-radius: 0.25em;box-sizing: border-box;margin-bottom: 0.5em;}#sk-container-id-1 div.sk-estimator:hover {background-color: #d4ebff;}#sk-container-id-1 div.sk-parallel-item::after {content: \"\";width: 100%;border-bottom: 1px solid gray;flex-grow: 1;}#sk-container-id-1 div.sk-label:hover label.sk-toggleable__label {background-color: #d4ebff;}#sk-container-id-1 div.sk-serial::before {content: \"\";position: absolute;border-left: 1px solid gray;box-sizing: border-box;top: 0;bottom: 0;left: 50%;z-index: 0;}#sk-container-id-1 div.sk-serial {display: flex;flex-direction: column;align-items: center;background-color: white;padding-right: 0.2em;padding-left: 0.2em;position: relative;}#sk-container-id-1 div.sk-item {position: relative;z-index: 1;}#sk-container-id-1 div.sk-parallel {display: flex;align-items: stretch;justify-content: center;background-color: white;position: relative;}#sk-container-id-1 div.sk-item::before, #sk-container-id-1 div.sk-parallel-item::before {content: \"\";position: absolute;border-left: 1px solid gray;box-sizing: border-box;top: 0;bottom: 0;left: 50%;z-index: -1;}#sk-container-id-1 div.sk-parallel-item {display: flex;flex-direction: column;z-index: 1;position: relative;background-color: white;}#sk-container-id-1 div.sk-parallel-item:first-child::after {align-self: flex-end;width: 50%;}#sk-container-id-1 div.sk-parallel-item:last-child::after {align-self: flex-start;width: 50%;}#sk-container-id-1 div.sk-parallel-item:only-child::after {width: 0;}#sk-container-id-1 div.sk-dashed-wrapped {border: 1px dashed gray;margin: 0 0.4em 0.5em 0.4em;box-sizing: border-box;padding-bottom: 0.4em;background-color: white;}#sk-container-id-1 div.sk-label label {font-family: monospace;font-weight: bold;display: inline-block;line-height: 1.2em;}#sk-container-id-1 div.sk-label-container {text-align: center;}#sk-container-id-1 div.sk-container {/* jupyter's `normalize.less` sets `[hidden] { display: none; }` but bootstrap.min.css set `[hidden] { display: none !important; }` so we also need the `!important` here to be able to override the default hidden behavior on the sphinx rendered scikit-learn.org. See: https://github.com/scikit-learn/scikit-learn/issues/21755 */display: inline-block !important;position: relative;}#sk-container-id-1 div.sk-text-repr-fallback {display: none;}</style><div id=\"sk-container-id-1\" class=\"sk-top-container\"><div class=\"sk-text-repr-fallback\"><pre>LinearRegression()</pre><b>In a Jupyter environment, please rerun this cell to show the HTML representation or trust the notebook. <br />On GitHub, the HTML representation is unable to render, please try loading this page with nbviewer.org.</b></div><div class=\"sk-container\" hidden><div class=\"sk-item\"><div class=\"sk-estimator sk-toggleable\"><input class=\"sk-toggleable__control sk-hidden--visually\" id=\"sk-estimator-id-1\" type=\"checkbox\" checked><label for=\"sk-estimator-id-1\" class=\"sk-toggleable__label sk-toggleable__label-arrow\">LinearRegression</label><div class=\"sk-toggleable__content\"><pre>LinearRegression()</pre></div></div></div></div></div>"
      ],
      "text/plain": [
       "LinearRegression()"
      ]
     },
     "execution_count": 28,
     "metadata": {},
     "output_type": "execute_result"
    }
   ],
   "source": [
    "data3_lr"
   ]
  },
  {
   "cell_type": "code",
   "execution_count": 29,
   "id": "79e1998d",
   "metadata": {},
   "outputs": [
    {
     "data": {
      "text/html": [
       "<style>#sk-container-id-2 {color: black;background-color: white;}#sk-container-id-2 pre{padding: 0;}#sk-container-id-2 div.sk-toggleable {background-color: white;}#sk-container-id-2 label.sk-toggleable__label {cursor: pointer;display: block;width: 100%;margin-bottom: 0;padding: 0.3em;box-sizing: border-box;text-align: center;}#sk-container-id-2 label.sk-toggleable__label-arrow:before {content: \"▸\";float: left;margin-right: 0.25em;color: #696969;}#sk-container-id-2 label.sk-toggleable__label-arrow:hover:before {color: black;}#sk-container-id-2 div.sk-estimator:hover label.sk-toggleable__label-arrow:before {color: black;}#sk-container-id-2 div.sk-toggleable__content {max-height: 0;max-width: 0;overflow: hidden;text-align: left;background-color: #f0f8ff;}#sk-container-id-2 div.sk-toggleable__content pre {margin: 0.2em;color: black;border-radius: 0.25em;background-color: #f0f8ff;}#sk-container-id-2 input.sk-toggleable__control:checked~div.sk-toggleable__content {max-height: 200px;max-width: 100%;overflow: auto;}#sk-container-id-2 input.sk-toggleable__control:checked~label.sk-toggleable__label-arrow:before {content: \"▾\";}#sk-container-id-2 div.sk-estimator input.sk-toggleable__control:checked~label.sk-toggleable__label {background-color: #d4ebff;}#sk-container-id-2 div.sk-label input.sk-toggleable__control:checked~label.sk-toggleable__label {background-color: #d4ebff;}#sk-container-id-2 input.sk-hidden--visually {border: 0;clip: rect(1px 1px 1px 1px);clip: rect(1px, 1px, 1px, 1px);height: 1px;margin: -1px;overflow: hidden;padding: 0;position: absolute;width: 1px;}#sk-container-id-2 div.sk-estimator {font-family: monospace;background-color: #f0f8ff;border: 1px dotted black;border-radius: 0.25em;box-sizing: border-box;margin-bottom: 0.5em;}#sk-container-id-2 div.sk-estimator:hover {background-color: #d4ebff;}#sk-container-id-2 div.sk-parallel-item::after {content: \"\";width: 100%;border-bottom: 1px solid gray;flex-grow: 1;}#sk-container-id-2 div.sk-label:hover label.sk-toggleable__label {background-color: #d4ebff;}#sk-container-id-2 div.sk-serial::before {content: \"\";position: absolute;border-left: 1px solid gray;box-sizing: border-box;top: 0;bottom: 0;left: 50%;z-index: 0;}#sk-container-id-2 div.sk-serial {display: flex;flex-direction: column;align-items: center;background-color: white;padding-right: 0.2em;padding-left: 0.2em;position: relative;}#sk-container-id-2 div.sk-item {position: relative;z-index: 1;}#sk-container-id-2 div.sk-parallel {display: flex;align-items: stretch;justify-content: center;background-color: white;position: relative;}#sk-container-id-2 div.sk-item::before, #sk-container-id-2 div.sk-parallel-item::before {content: \"\";position: absolute;border-left: 1px solid gray;box-sizing: border-box;top: 0;bottom: 0;left: 50%;z-index: -1;}#sk-container-id-2 div.sk-parallel-item {display: flex;flex-direction: column;z-index: 1;position: relative;background-color: white;}#sk-container-id-2 div.sk-parallel-item:first-child::after {align-self: flex-end;width: 50%;}#sk-container-id-2 div.sk-parallel-item:last-child::after {align-self: flex-start;width: 50%;}#sk-container-id-2 div.sk-parallel-item:only-child::after {width: 0;}#sk-container-id-2 div.sk-dashed-wrapped {border: 1px dashed gray;margin: 0 0.4em 0.5em 0.4em;box-sizing: border-box;padding-bottom: 0.4em;background-color: white;}#sk-container-id-2 div.sk-label label {font-family: monospace;font-weight: bold;display: inline-block;line-height: 1.2em;}#sk-container-id-2 div.sk-label-container {text-align: center;}#sk-container-id-2 div.sk-container {/* jupyter's `normalize.less` sets `[hidden] { display: none; }` but bootstrap.min.css set `[hidden] { display: none !important; }` so we also need the `!important` here to be able to override the default hidden behavior on the sphinx rendered scikit-learn.org. See: https://github.com/scikit-learn/scikit-learn/issues/21755 */display: inline-block !important;position: relative;}#sk-container-id-2 div.sk-text-repr-fallback {display: none;}</style><div id=\"sk-container-id-2\" class=\"sk-top-container\"><div class=\"sk-text-repr-fallback\"><pre>LinearRegression()</pre><b>In a Jupyter environment, please rerun this cell to show the HTML representation or trust the notebook. <br />On GitHub, the HTML representation is unable to render, please try loading this page with nbviewer.org.</b></div><div class=\"sk-container\" hidden><div class=\"sk-item\"><div class=\"sk-estimator sk-toggleable\"><input class=\"sk-toggleable__control sk-hidden--visually\" id=\"sk-estimator-id-2\" type=\"checkbox\" checked><label for=\"sk-estimator-id-2\" class=\"sk-toggleable__label sk-toggleable__label-arrow\">LinearRegression</label><div class=\"sk-toggleable__content\"><pre>LinearRegression()</pre></div></div></div></div></div>"
      ],
      "text/plain": [
       "LinearRegression()"
      ]
     },
     "execution_count": 29,
     "metadata": {},
     "output_type": "execute_result"
    }
   ],
   "source": [
    "data3_lr.fit(X_train, y_train)"
   ]
  },
  {
   "cell_type": "code",
   "execution_count": 30,
   "id": "1244d13f",
   "metadata": {},
   "outputs": [],
   "source": [
    "prediction = data3_lr.predict(X)"
   ]
  },
  {
   "cell_type": "code",
   "execution_count": 31,
   "id": "60289daa",
   "metadata": {},
   "outputs": [
    {
     "data": {
      "text/plain": [
       "array([116.83783689, 116.83783689, 116.84161635, ..., 122.4384563 ,\n",
       "       122.40822062, 139.5677223 ])"
      ]
     },
     "execution_count": 31,
     "metadata": {},
     "output_type": "execute_result"
    }
   ],
   "source": [
    "prediction"
   ]
  },
  {
   "cell_type": "code",
   "execution_count": 32,
   "id": "acb2087c",
   "metadata": {},
   "outputs": [],
   "source": [
    "import pickle"
   ]
  },
  {
   "cell_type": "code",
   "execution_count": 33,
   "id": "c87269e6",
   "metadata": {},
   "outputs": [],
   "source": [
    "with open('lr_pickle', 'wb') as f:\n",
    "    pickle.dump(lr, f)"
   ]
  },
  {
   "cell_type": "code",
   "execution_count": 34,
   "id": "109096d7",
   "metadata": {},
   "outputs": [],
   "source": [
    "with open('lr_pickle', 'rb') as f:\n",
    "    mp = pickle.load(f)"
   ]
  },
  {
   "cell_type": "code",
   "execution_count": 35,
   "id": "f2657837",
   "metadata": {},
   "outputs": [],
   "source": [
    "import joblib"
   ]
  },
  {
   "cell_type": "code",
   "execution_count": 36,
   "id": "ba8cbcd9",
   "metadata": {},
   "outputs": [
    {
     "name": "stdout",
     "output_type": "stream",
     "text": [
      "[116.83783689]\n"
     ]
    },
    {
     "name": "stderr",
     "output_type": "stream",
     "text": [
      "D:\\Python\\Training\\docutraining\\Lib\\site-packages\\sklearn\\base.py:432: UserWarning: X has feature names, but LinearRegression was fitted without feature names\n",
      "  warnings.warn(\n"
     ]
    }
   ],
   "source": [
    "import pandas as pd\n",
    "import joblib\n",
    "\n",
    "# Load the trained model\n",
    "model = joblib.load('lr_pickle')\n",
    "\n",
    "# Create a DataFrame for the input data    8325.0\t24\t701185\t40   MatGR\tPlantC\tVendorCodeC\tOrder_Quantity\t 8407.0\t21\t905637\t300\t\n",
    "input_data = pd.DataFrame({\n",
    "    'MatGR': [8325.0],\n",
    "    'PlantC': [24],\n",
    "    #'VendorCodeC': [701185],\n",
    "    'Order_Quantity': [40],\n",
    "    # Add more columns for each feature and provide corresponding values\n",
    "})\n",
    "\n",
    "# Make predictions\n",
    "predictions = model.predict(input_data)\n",
    "\n",
    "# Print the predictions\n",
    "print(predictions)"
   ]
  },
  {
   "cell_type": "code",
   "execution_count": 37,
   "id": "c332b836",
   "metadata": {},
   "outputs": [
    {
     "name": "stdout",
     "output_type": "stream",
     "text": [
      "Vendors with similar delivery times:\n",
      "[701185, 711444, 710589, 704151, 704930, 703844, 718433, 700358, 701766, 717945, 706145, 715537, 710694, 715373, 712782, 717017, 709372, 701731, 718878, 706887, 704889, 711478, 711275, 710867, 709069, 701174, 708586, 706244, 719883, 709857, 701851, 700308, 703789, 707896, 700053, 711188, 712922, 717209, 710229, 717092, 710802, 707850, 706301, 715733, 704671, 711221, 709664, 709102, 703195, 707779, 707661, 700228, 715763, 701906, 711719, 718562, 719399, 702023, 716439, 707371, 709656, 706252, 706285, 707666, 706271, 707796, 704931, 706159, 718284, 704373, 707572, 709773, 714227, 705362, 708529, 706574, 711261, 707023, 700031, 710845, 703301, 719487, 701767, 707167, 709268, 719837, 700047, 705325, 703532, 706266, 707948, 700370, 703523, 707990, 716720, 719143, 711893, 701739, 704316, 704087, 708616, 710262, 717715, 706255, 709122, 714995, 718685, 717939, 718574, 719536, 709609, 707380, 709234, 704392, 704789, 700985, 702070, 701215, 719475, 709488, 711229, 704262, 708456, 706292, 709553, 716503, 717875, 701741, 703217, 709573, 718169, 719121, 700240, 706863, 712467, 701744, 709648, 703802, 719332, 718196, 719590, 713041, 701789, 720108, 707634, 706247, 704850, 717390, 718340, 702222, 713856, 710803, 719388, 706949, 902368, 719275, 710872, 707872, 708607, 720161, 706113, 714280, 704227, 720107, 715638, 703386, 717662, 715845, 904811, 719129, 711233, 707368, 701500, 709463, 711220, 717195, 720205, 709366, 708540, 709087, 706241, 710711, 705350, 718969, 718986, 709511, 707840, 715452, 700206, 704266, 711841, 718030, 708606, 708762, 703461, 719904, 903623, 709496, 718974, 718309, 703536, 719603, 710445, 706095, 719151, 716665, 706415, 709756, 704068, 704115, 707818, 706942, 711350, 710846, 709902, 715385, 704033, 720305, 716499, 701180, 701696, 717587, 719173, 720248, 705639, 716696, 709852, 720357, 700239, 718385, 720361, 708560, 702269, 719959, 717734, 713638, 716593, 718257, 715670, 709103, 709939, 700262, 707024, 712889, 707768, 719998, 800515, 705407, 716198, 720428, 719070, 709778, 711965, 709591, 719054, 707835, 711276, 718709, 710807, 720442, 712408, 705444, 712890, 720465, 708563, 706125, 709567, 709105, 716562, 713260, 704911, 702353, 719225, 706765, 720150, 707021, 718614, 720112, 702351, 702535, 717299, 719094, 705388, 718361, 708599, 705371, 720504, 705801, 716068, 701245, 700407, 704488, 707856, 720274, 710891, 718653, 711966, 719258, 720606, 708495, 707003, 701369, 708566, 703220, 712131, 719977, 704884, 700074, 720684, 720680, 720678, 703513, 720688, 720691, 702292, 905769, 705276, 720708, 702625, 717911, 706718, 720650, 702727, 702374, 720724, 718507, 702717, 720753, 705876, 711655, 717747, 720750, 720760, 720667, 706276, 714515, 720818, 720813, 707220, 705343, 700099, 720843, 709969, 711259, 716249, 709885, 707385, 709515, 711455, 720924, 707709, 705905, 720926, 720925, 719100, 709080, 701911, 700361, 720956, 708496, 720957, 713637, 704389, 704767, 718491, 719187, 720994, 718754, 721000, 721024, 708528, 700485, 721020, 721052, 718762, 721013, 719009, 721095, 721085, 721128, 721011, 721154, 721171, 720618, 700091, 706903, 721130, 709560, 721192, 719791, 721108, 721205, 711417, 718099, 718003, 721241, 700127, 720834, 720930, 702325, 718504, 721131, 720347, 721062, 721275, 700241, 703870, 713148, 721071, 721295, 721301, 715678, 721297, 721312, 721051, 721333, 716065, 721332, 721335, 721338, 721142, 708646, 720455, 721355, 707767, 721374, 715785, 721387, 721398, 704879, 721383, 721403, 721090, 721389, 720712, 717500, 721188, 721434, 721445, 721463, 704422, 704920, 704696, 701192, 706135, 700492, 718234, 704877, 720799, 721521, 720401, 721542, 718903, 720839, 707317, 721568, 701252, 721325, 720351, 720997, 721394, 721600, 710475, 719352, 721627, 721634, 721638, 709548, 715207, 721670, 709214, 702239, 718233, 721665, 721713, 721692, 721731, 720644, 720003, 705904, 721660, 710705, 719323, 721778, 721741, 700802, 721801, 721798, 707934, 721799, 702721, 706902, 707859, 709647, 701230, 712999, 721944, 713073, 719127, 721197, 716879, 721984, 718374, 700214, 714422, 704310, 720561, 700564, 719201, 722019, 722024, 720200, 701861, 721208, 721523, 906123, 700253, 718510, 703454, 722093, 708777, 721720]\n"
     ]
    }
   ],
   "source": [
    "# Make predictions for delivery time\n",
    "model = joblib.load('lr_pickle')\n",
    "predicted_delivery_time = model.predict(X)\n",
    "\n",
    "# Define the desired delivery time\n",
    "desired_delivery_time = 116\n",
    "\n",
    "# Find vendors with similar delivery times\n",
    "similar_vendors = data2.loc[np.abs(predicted_delivery_time - desired_delivery_time) < 1].VendorCodeC.unique()\n",
    "\n",
    "print(\"Vendors with similar delivery times:\")\n",
    "print(similar_vendors.tolist())\n",
    "\n",
    "#np.set_printoptions(threshold=np.inf)  # Set the threshold to infinity\n",
    "#print(\"Vendors with similar delivery times:\")\n",
    "#print(similar_vendors)"
   ]
  },
  {
   "cell_type": "code",
   "execution_count": null,
   "id": "4b4054f4",
   "metadata": {},
   "outputs": [],
   "source": []
  },
  {
   "cell_type": "code",
   "execution_count": 38,
   "id": "2ac72297",
   "metadata": {},
   "outputs": [
    {
     "name": "stdout",
     "output_type": "stream",
     "text": [
      "Vendors with similar delivery times:\n",
      "[709130 711267 705654 701053 713632 716502 709591 704920 901345 709187\n",
      " 718558 708616 717589 719554 718797 702269 708576 715940 707390 717209\n",
      " 707251 720177 706241 708588 702085 703790 705359 706121 717914 800515\n",
      " 700511 719652 717969 703507 709553 708563 707006 710293 705408 705233\n",
      " 718589 719381 707661 709268 720569 717939 709137 707909 715857 701766\n",
      " 712408 716334 711610 707572 707602 711237 718980 718614 707333 703519\n",
      " 715471 700384 702070 712782 704767 704111 719069 703987 711444 704550\n",
      " 704416 700101 721108 708528 704392 701778 705433 711408 720946 717827\n",
      " 711965 720628 709113 719506 705914 706948 719289 718223 701142 709548\n",
      " 709496 716090 720107 706546 717893 719904 719830 706083 705901 713636\n",
      " 703228 714995 709234 718003 711502 700222 710846 710839 700118 710898\n",
      " 715246 721450 718278 711694 721179 706187 718282 717025 703181 709216\n",
      " 705382 702535 709616 719399 718030 701309 708245 716408 700111 703301\n",
      " 721602 708377 718459 713767 709822 700218 703592 720622 706159 716037\n",
      " 707871 704317 715345 704884 703182 711469 707872 719303 708874 706167\n",
      " 701831 721840 906029 721374 709923 708940 721424 716664 717648 709174\n",
      " 721954 704423 721975 719142 721796 703963 712265 722040 702677 722048\n",
      " 722049 712750 716112 721579 703309 709641]\n"
     ]
    },
    {
     "name": "stderr",
     "output_type": "stream",
     "text": [
      "D:\\Python\\Training\\docutraining\\Lib\\site-packages\\sklearn\\base.py:432: UserWarning: X has feature names, but LinearRegression was fitted without feature names\n",
      "  warnings.warn(\n"
     ]
    }
   ],
   "source": [
    "# Make predictions for delivery time\n",
    "model1 = joblib.load('lr_pickle')\n",
    "predicted_delivery_time = model1.predict(X)\n",
    "\n",
    "# Define the new input data 8407.0\t21\t905637\t300\t\n",
    "# Create a new data point for prediction\n",
    "#new_data_point = np.array([[new_material_group, new_order_quantity, new_plant_name]])\n",
    "new_data_point = pd.DataFrame({\n",
    "    'MatGR': [8407.0],\n",
    "    'PlantC': [24],\n",
    "    #'VendorCodeC': [905637],\n",
    "    'Order_Quantity': [300],\n",
    "    # Add more columns for each feature and provide corresponding values\n",
    "})\n",
    "\n",
    "\n",
    "# Normalize the new data point\n",
    "#new_data_point = (new_data_point - np.mean(X, axis=0)) / np.std(X, axis=0)\n",
    "\n",
    "# Predict the delivery time for the new data point\n",
    "predicted_delivery_time = model1.predict(new_data_point)\n",
    "\n",
    "# Define the threshold for similar delivery times\n",
    "desired_delivery_time = 100\n",
    "threshold = 1\n",
    "\n",
    "# Find vendors with similar delivery times\n",
    "similar_vendors = data2.loc[np.abs(y - predicted_delivery_time) < threshold, 'VendorCodeC'].unique()\n",
    "\n",
    "print(\"Vendors with similar delivery times:\")\n",
    "print(similar_vendors)"
   ]
  },
  {
   "cell_type": "code",
   "execution_count": null,
   "id": "29800922",
   "metadata": {},
   "outputs": [],
   "source": []
  },
  {
   "cell_type": "code",
   "execution_count": 39,
   "id": "5887b278",
   "metadata": {
    "scrolled": true
   },
   "outputs": [
    {
     "name": "stdout",
     "output_type": "stream",
     "text": [
      "Vendors with similar delivery times:\n",
      "[711221 708375 717459 709720 719934 703676 713636 710882 706244 701105\n",
      " 707889 904307 711019 719325 706130 704920 719712 719381 716592 716077\n",
      " 708616 707380 700209 704221 701215 714995 707948 707796 715207 705362\n",
      " 702307 717382 719388 702558 703960 704903 704317 718280 709778 703573\n",
      " 715884 701766 708398 718346 718709 709234 703958 710729 713260 711537\n",
      " 716112 710445 712727 719172 719151 711220 704882 703102 712782 715452\n",
      " 717195 716720 717742 710969 702510 710739 706266 703973 703301 708377\n",
      " 701851 711498 704432 718558 704048 720424 703461 717914 706565 709823\n",
      " 709553 718739 711405 714691 709174 707218 709137 719448 709647 718593\n",
      " 716502 700511 709548 706008 715239 710714 704111 708940 716897 700100\n",
      " 702727 717648 700431 704769 712386 719281 703519 704833 702493 716234\n",
      " 704355 720710 707390 707597 708529 711251 719603 708135 706575 700047\n",
      " 705905 705904 700214 720107 703504 717045 709268 720934 719950 709939\n",
      " 721042 721041 721039 721040 721047 721020 702287 704035 717035 716807\n",
      " 701740 707024 716996 720758 721249 709573 704789 709496 718559 721339\n",
      " 717719 705639 707661 707856 701185 706774 703178 719972 719649 704381\n",
      " 702194 716861 711478 719652 717434 704392 718878 702788 719357 703513\n",
      " 719999 704093 702325 709080 709875 709591 717504 709069 721874 701731\n",
      " 718986 706418 719399 711259 706241 701581 717714 719036 719754 722079]\n"
     ]
    }
   ],
   "source": [
    "# Make predictions for delivery time\n",
    "model2 = joblib.load('lr_pickle')\n",
    "predicted_delivery_time = model2.predict(X)\n",
    "\n",
    "# Define the new input data 8407.0\t21\t905637\t300\t\n",
    "# Create a new data point for prediction\n",
    "#new_data_point = np.array([[new_material_group, new_order_quantity, new_plant_name]])\n",
    "\n",
    "new_material_group = int(8325.0)\n",
    "new_order_quantity = 40\n",
    "new_plant_name = 24\n",
    "#new_vendor = 905637\n",
    "\n",
    "new_data_point = np.array([[new_material_group, new_order_quantity, new_plant_name]])\n",
    "\n",
    "# Normalize the new data point\n",
    "#new_data_point = (new_data_point - np.mean(X, axis=0)) / np.std(X, axis=0)\n",
    "\n",
    "# Predict the delivery time for the new data point\n",
    "predicted_delivery_time = model2.predict(new_data_point)\n",
    "\n",
    "# Define the threshold for similar delivery times\n",
    "desired_delivery_time = 119\n",
    "threshold = 1\n",
    "\n",
    "# Find vendors with similar delivery times\n",
    "similar_vendors = data2.loc[np.abs(y - predicted_delivery_time) < threshold, 'VendorCodeC'].unique()\n",
    "\n",
    "print(\"Vendors with similar delivery times:\")\n",
    "print(similar_vendors)"
   ]
  },
  {
   "cell_type": "code",
   "execution_count": null,
   "id": "580a8479",
   "metadata": {},
   "outputs": [],
   "source": []
  },
  {
   "cell_type": "code",
   "execution_count": 40,
   "id": "9ad5a970",
   "metadata": {},
   "outputs": [
    {
     "data": {
      "text/plain": [
       "-29.438330947865808"
      ]
     },
     "execution_count": 40,
     "metadata": {},
     "output_type": "execute_result"
    }
   ],
   "source": [
    "data3_lr.intercept_"
   ]
  },
  {
   "cell_type": "code",
   "execution_count": 41,
   "id": "2976cffc",
   "metadata": {},
   "outputs": [
    {
     "data": {
      "text/plain": [
       "array([ 2.13725371e-02, -1.31938839e+00,  3.77946029e-04])"
      ]
     },
     "execution_count": 41,
     "metadata": {},
     "output_type": "execute_result"
    }
   ],
   "source": [
    "data3_lr.coef_"
   ]
  },
  {
   "cell_type": "code",
   "execution_count": 42,
   "id": "94404f7b",
   "metadata": {},
   "outputs": [],
   "source": [
    "#Applying the model to make a prediction\n",
    "#Import functions from the sklearn.metrics sub-module to compute the performance metrics\n",
    "y_lr_train_pred = lr.predict(X_train)\n",
    "y_lr_test_pred = lr.predict(X_test) "
   ]
  },
  {
   "cell_type": "code",
   "execution_count": 43,
   "id": "8e618852",
   "metadata": {},
   "outputs": [
    {
     "name": "stdout",
     "output_type": "stream",
     "text": [
      "[118 126 119 ... 118 121 136]\n"
     ]
    }
   ],
   "source": [
    "vector = np.vectorize(np.int_)\n",
    "y_lr_test_pred = vector(y_lr_test_pred)\n",
    "print(y_lr_test_pred)"
   ]
  },
  {
   "cell_type": "code",
   "execution_count": 44,
   "id": "743a5be8",
   "metadata": {},
   "outputs": [
    {
     "name": "stdout",
     "output_type": "stream",
     "text": [
      "[118 119 121 ... 119 121 119]\n"
     ]
    }
   ],
   "source": [
    "vector = np.vectorize(np.int_)\n",
    "y_lr_train_pred = vector(y_lr_train_pred)\n",
    "print(y_lr_train_pred)"
   ]
  },
  {
   "cell_type": "code",
   "execution_count": 45,
   "id": "5e1bcfc0",
   "metadata": {},
   "outputs": [
    {
     "data": {
      "text/plain": [
       "array([161.,  60., 180., ..., 185., 171., 162.])"
      ]
     },
     "execution_count": 45,
     "metadata": {},
     "output_type": "execute_result"
    }
   ],
   "source": [
    "#Evaluate model performance\n",
    "y_train"
   ]
  },
  {
   "cell_type": "code",
   "execution_count": 46,
   "id": "d8121961",
   "metadata": {},
   "outputs": [
    {
     "data": {
      "text/plain": [
       "array([118, 119, 121, ..., 119, 121, 119])"
      ]
     },
     "execution_count": 46,
     "metadata": {},
     "output_type": "execute_result"
    }
   ],
   "source": [
    "y_lr_train_pred"
   ]
  },
  {
   "cell_type": "code",
   "execution_count": 47,
   "id": "dbefa0ee",
   "metadata": {},
   "outputs": [],
   "source": [
    "from sklearn.metrics import mean_squared_error, r2_score\n",
    "\n",
    "lr_train_mse = mean_squared_error(y_train, y_lr_train_pred)\n",
    "lr_train_r2 = r2_score(y_train, y_lr_train_pred)\n",
    "\n",
    "lr_test_mse = mean_squared_error(y_test, y_lr_test_pred)\n",
    "lr_test_r2 = r2_score(y_test, y_lr_test_pred)"
   ]
  },
  {
   "cell_type": "code",
   "execution_count": 48,
   "id": "4881a28f",
   "metadata": {},
   "outputs": [
    {
     "name": "stdout",
     "output_type": "stream",
     "text": [
      "LR MSE (Train):  4552.972061108234\n",
      "LR R2 (Train):  0.015781786722879332\n",
      "LR MSE (Test):  4329.866630417897\n",
      "LR R2 (Test):  0.013472162250764308\n"
     ]
    }
   ],
   "source": [
    "print('LR MSE (Train): ', lr_train_mse)\n",
    "print('LR R2 (Train): ', lr_train_r2)\n",
    "print('LR MSE (Test): ', lr_test_mse)\n",
    "print('LR R2 (Test): ', lr_test_r2)"
   ]
  },
  {
   "cell_type": "code",
   "execution_count": 49,
   "id": "8ed1b889",
   "metadata": {},
   "outputs": [
    {
     "data": {
      "text/plain": [
       "67.4757146024274"
      ]
     },
     "execution_count": 49,
     "metadata": {},
     "output_type": "execute_result"
    }
   ],
   "source": [
    "np.sqrt(mean_squared_error(y_train,y_lr_train_pred)) "
   ]
  },
  {
   "cell_type": "code",
   "execution_count": 50,
   "id": "a025eaef",
   "metadata": {},
   "outputs": [
    {
     "data": {
      "text/plain": [
       "65.80172209310253"
      ]
     },
     "execution_count": 50,
     "metadata": {},
     "output_type": "execute_result"
    }
   ],
   "source": [
    "np.sqrt(mean_squared_error(y_test,y_lr_test_pred))"
   ]
  },
  {
   "cell_type": "code",
   "execution_count": 51,
   "id": "db497fe0",
   "metadata": {},
   "outputs": [],
   "source": [
    "lr_results = pd.DataFrame(['Linear Regression', lr_train_mse, lr_train_r2, lr_test_mse, lr_test_r2]).transpose()\n",
    "lr_results.columns = ['Method', 'Training MSE', 'Training R2', 'Test MSE', 'Test R2']"
   ]
  },
  {
   "cell_type": "code",
   "execution_count": 52,
   "id": "de034032",
   "metadata": {},
   "outputs": [
    {
     "data": {
      "text/html": [
       "<div>\n",
       "<style scoped>\n",
       "    .dataframe tbody tr th:only-of-type {\n",
       "        vertical-align: middle;\n",
       "    }\n",
       "\n",
       "    .dataframe tbody tr th {\n",
       "        vertical-align: top;\n",
       "    }\n",
       "\n",
       "    .dataframe thead th {\n",
       "        text-align: right;\n",
       "    }\n",
       "</style>\n",
       "<table border=\"1\" class=\"dataframe\">\n",
       "  <thead>\n",
       "    <tr style=\"text-align: right;\">\n",
       "      <th></th>\n",
       "      <th>Method</th>\n",
       "      <th>Training MSE</th>\n",
       "      <th>Training R2</th>\n",
       "      <th>Test MSE</th>\n",
       "      <th>Test R2</th>\n",
       "    </tr>\n",
       "  </thead>\n",
       "  <tbody>\n",
       "    <tr>\n",
       "      <th>0</th>\n",
       "      <td>Linear Regression</td>\n",
       "      <td>4552.972061</td>\n",
       "      <td>0.015782</td>\n",
       "      <td>4329.86663</td>\n",
       "      <td>0.013472</td>\n",
       "    </tr>\n",
       "  </tbody>\n",
       "</table>\n",
       "</div>"
      ],
      "text/plain": [
       "              Method Training MSE Training R2    Test MSE   Test R2\n",
       "0  Linear Regression  4552.972061    0.015782  4329.86663  0.013472"
      ]
     },
     "execution_count": 52,
     "metadata": {},
     "output_type": "execute_result"
    }
   ],
   "source": [
    "lr_results"
   ]
  },
  {
   "cell_type": "code",
   "execution_count": 53,
   "id": "3d55cb77",
   "metadata": {},
   "outputs": [
    {
     "name": "stderr",
     "output_type": "stream",
     "text": [
      "C:\\Users\\ASUS\\AppData\\Local\\Temp\\ipykernel_16528\\2532225999.py:4: UserWarning: color is redundantly defined by the 'color' keyword argument and the fmt string \"k--\" (-> color='k'). The keyword argument will take precedence.\n",
      "  plt.plot([y_train.min(),y_train.max()], [y_train.min(),y_train.max()], 'k--', c = 'blue', lw = 3)\n"
     ]
    },
    {
     "data": {
      "text/plain": [
       "Text(0, 0.5, 'Predicted')"
      ]
     },
     "execution_count": 53,
     "metadata": {},
     "output_type": "execute_result"
    },
    {
     "data": {
      "image/png": "[encoded data removed]",
      "text/plain": [
       "<Figure size 1500x1000 with 1 Axes>"
      ]
     },
     "metadata": {},
     "output_type": "display_data"
    }
   ],
   "source": [
    "#Scatter plot for train data\n",
    "plt.figure(figsize = (15,10))\n",
    "plt.scatter(y_train,y_lr_train_pred, c = 'green')\n",
    "plt.plot([y_train.min(),y_train.max()], [y_train.min(),y_train.max()], 'k--', c = 'blue', lw = 3)\n",
    "plt.xlabel('Actual')\n",
    "plt.ylabel('Predicted')"
   ]
  },
  {
   "cell_type": "code",
   "execution_count": 54,
   "id": "414cf44a",
   "metadata": {},
   "outputs": [
    {
     "name": "stdout",
     "output_type": "stream",
     "text": [
      "48.44275283517166\n",
      "4329.866630417897\n",
      "65.80172209310253\n"
     ]
    }
   ],
   "source": [
    "#Import metrics library\n",
    "from sklearn import metrics\n",
    "\n",
    "# Print result of MAE\n",
    "print(metrics.mean_absolute_error(y_test, y_lr_test_pred))\n",
    "\n",
    "# Print result of MSE\n",
    "print(metrics.mean_squared_error(y_test, y_lr_test_pred))\n",
    "\n",
    "# Print result of RMSE\n",
    "print(np.sqrt(metrics.mean_squared_error(y_test, y_lr_test_pred)))"
   ]
  },
  {
   "cell_type": "code",
   "execution_count": 55,
   "id": "362d3aed",
   "metadata": {},
   "outputs": [
    {
     "data": {
      "text/plain": [
       "array([118.44740981, 126.99982617, 119.94887215, ..., 118.57279185,\n",
       "       121.0952573 , 136.9297014 ])"
      ]
     },
     "execution_count": 55,
     "metadata": {},
     "output_type": "execute_result"
    }
   ],
   "source": [
    "lr.predict(X_test)"
   ]
  },
  {
   "cell_type": "code",
   "execution_count": 56,
   "id": "8f599f81",
   "metadata": {},
   "outputs": [
    {
     "data": {
      "text/plain": [
       "array([[189.,  92.,  75., ...,  60.,  78., 194.]])"
      ]
     },
     "execution_count": 56,
     "metadata": {},
     "output_type": "execute_result"
    }
   ],
   "source": [
    "np.array([y_test])"
   ]
  },
  {
   "cell_type": "code",
   "execution_count": 57,
   "id": "78c0bbfa",
   "metadata": {},
   "outputs": [
    {
     "data": {
      "text/plain": [
       "0.012923066643782621"
      ]
     },
     "execution_count": 57,
     "metadata": {},
     "output_type": "execute_result"
    }
   ],
   "source": [
    "lr.score(X_test, y_test)"
   ]
  },
  {
   "cell_type": "code",
   "execution_count": 58,
   "id": "f69265a1",
   "metadata": {},
   "outputs": [
    {
     "data": {
      "text/html": [
       "<style>#sk-container-id-3 {color: black;background-color: white;}#sk-container-id-3 pre{padding: 0;}#sk-container-id-3 div.sk-toggleable {background-color: white;}#sk-container-id-3 label.sk-toggleable__label {cursor: pointer;display: block;width: 100%;margin-bottom: 0;padding: 0.3em;box-sizing: border-box;text-align: center;}#sk-container-id-3 label.sk-toggleable__label-arrow:before {content: \"▸\";float: left;margin-right: 0.25em;color: #696969;}#sk-container-id-3 label.sk-toggleable__label-arrow:hover:before {color: black;}#sk-container-id-3 div.sk-estimator:hover label.sk-toggleable__label-arrow:before {color: black;}#sk-container-id-3 div.sk-toggleable__content {max-height: 0;max-width: 0;overflow: hidden;text-align: left;background-color: #f0f8ff;}#sk-container-id-3 div.sk-toggleable__content pre {margin: 0.2em;color: black;border-radius: 0.25em;background-color: #f0f8ff;}#sk-container-id-3 input.sk-toggleable__control:checked~div.sk-toggleable__content {max-height: 200px;max-width: 100%;overflow: auto;}#sk-container-id-3 input.sk-toggleable__control:checked~label.sk-toggleable__label-arrow:before {content: \"▾\";}#sk-container-id-3 div.sk-estimator input.sk-toggleable__control:checked~label.sk-toggleable__label {background-color: #d4ebff;}#sk-container-id-3 div.sk-label input.sk-toggleable__control:checked~label.sk-toggleable__label {background-color: #d4ebff;}#sk-container-id-3 input.sk-hidden--visually {border: 0;clip: rect(1px 1px 1px 1px);clip: rect(1px, 1px, 1px, 1px);height: 1px;margin: -1px;overflow: hidden;padding: 0;position: absolute;width: 1px;}#sk-container-id-3 div.sk-estimator {font-family: monospace;background-color: #f0f8ff;border: 1px dotted black;border-radius: 0.25em;box-sizing: border-box;margin-bottom: 0.5em;}#sk-container-id-3 div.sk-estimator:hover {background-color: #d4ebff;}#sk-container-id-3 div.sk-parallel-item::after {content: \"\";width: 100%;border-bottom: 1px solid gray;flex-grow: 1;}#sk-container-id-3 div.sk-label:hover label.sk-toggleable__label {background-color: #d4ebff;}#sk-container-id-3 div.sk-serial::before {content: \"\";position: absolute;border-left: 1px solid gray;box-sizing: border-box;top: 0;bottom: 0;left: 50%;z-index: 0;}#sk-container-id-3 div.sk-serial {display: flex;flex-direction: column;align-items: center;background-color: white;padding-right: 0.2em;padding-left: 0.2em;position: relative;}#sk-container-id-3 div.sk-item {position: relative;z-index: 1;}#sk-container-id-3 div.sk-parallel {display: flex;align-items: stretch;justify-content: center;background-color: white;position: relative;}#sk-container-id-3 div.sk-item::before, #sk-container-id-3 div.sk-parallel-item::before {content: \"\";position: absolute;border-left: 1px solid gray;box-sizing: border-box;top: 0;bottom: 0;left: 50%;z-index: -1;}#sk-container-id-3 div.sk-parallel-item {display: flex;flex-direction: column;z-index: 1;position: relative;background-color: white;}#sk-container-id-3 div.sk-parallel-item:first-child::after {align-self: flex-end;width: 50%;}#sk-container-id-3 div.sk-parallel-item:last-child::after {align-self: flex-start;width: 50%;}#sk-container-id-3 div.sk-parallel-item:only-child::after {width: 0;}#sk-container-id-3 div.sk-dashed-wrapped {border: 1px dashed gray;margin: 0 0.4em 0.5em 0.4em;box-sizing: border-box;padding-bottom: 0.4em;background-color: white;}#sk-container-id-3 div.sk-label label {font-family: monospace;font-weight: bold;display: inline-block;line-height: 1.2em;}#sk-container-id-3 div.sk-label-container {text-align: center;}#sk-container-id-3 div.sk-container {/* jupyter's `normalize.less` sets `[hidden] { display: none; }` but bootstrap.min.css set `[hidden] { display: none !important; }` so we also need the `!important` here to be able to override the default hidden behavior on the sphinx rendered scikit-learn.org. See: https://github.com/scikit-learn/scikit-learn/issues/21755 */display: inline-block !important;position: relative;}#sk-container-id-3 div.sk-text-repr-fallback {display: none;}</style><div id=\"sk-container-id-3\" class=\"sk-top-container\"><div class=\"sk-text-repr-fallback\"><pre>RandomForestRegressor(max_depth=2, random_state=100)</pre><b>In a Jupyter environment, please rerun this cell to show the HTML representation or trust the notebook. <br />On GitHub, the HTML representation is unable to render, please try loading this page with nbviewer.org.</b></div><div class=\"sk-container\" hidden><div class=\"sk-item\"><div class=\"sk-estimator sk-toggleable\"><input class=\"sk-toggleable__control sk-hidden--visually\" id=\"sk-estimator-id-3\" type=\"checkbox\" checked><label for=\"sk-estimator-id-3\" class=\"sk-toggleable__label sk-toggleable__label-arrow\">RandomForestRegressor</label><div class=\"sk-toggleable__content\"><pre>RandomForestRegressor(max_depth=2, random_state=100)</pre></div></div></div></div></div>"
      ],
      "text/plain": [
       "RandomForestRegressor(max_depth=2, random_state=100)"
      ]
     },
     "execution_count": 58,
     "metadata": {},
     "output_type": "execute_result"
    }
   ],
   "source": [
    "#Random Forest Model\n",
    "#Training the model\n",
    "from sklearn.ensemble import RandomForestRegressor\n",
    "\n",
    "rf = RandomForestRegressor(max_depth = 2, random_state = 100)\n",
    "rf.fit(X_train, y_train)"
   ]
  },
  {
   "cell_type": "code",
   "execution_count": 59,
   "id": "5bf93f7b",
   "metadata": {},
   "outputs": [],
   "source": [
    "#Applying the model to make a prediction\n",
    "y_rf_train_pred = rf.predict(X_train)\n",
    "y_rf_test_pred = rf.predict(X_test)"
   ]
  },
  {
   "cell_type": "code",
   "execution_count": 60,
   "id": "b394ae16",
   "metadata": {},
   "outputs": [
    {
     "name": "stdout",
     "output_type": "stream",
     "text": [
      "[123 123 123 ... 123 123 170]\n"
     ]
    }
   ],
   "source": [
    "vector = np.vectorize(np.int_)\n",
    "y_rf_test_pred = vector(y_rf_test_pred)\n",
    "print(y_rf_test_pred)"
   ]
  },
  {
   "cell_type": "code",
   "execution_count": 61,
   "id": "a0efa9e2",
   "metadata": {},
   "outputs": [
    {
     "name": "stdout",
     "output_type": "stream",
     "text": [
      "[123  97 123 ... 123 123  97]\n"
     ]
    }
   ],
   "source": [
    "vector = np.vectorize(np.int_)\n",
    "y_rf_train_pred = vector(y_rf_train_pred)\n",
    "print(y_rf_train_pred)"
   ]
  },
  {
   "cell_type": "code",
   "execution_count": 62,
   "id": "c6e5c93b",
   "metadata": {},
   "outputs": [
    {
     "data": {
      "text/plain": [
       "array([123,  97, 123, ..., 123, 123,  97])"
      ]
     },
     "execution_count": 62,
     "metadata": {},
     "output_type": "execute_result"
    }
   ],
   "source": [
    "y_rf_train_pred"
   ]
  },
  {
   "cell_type": "code",
   "execution_count": 63,
   "id": "5201b8e0",
   "metadata": {},
   "outputs": [],
   "source": [
    "#Evaluate model performance\n",
    "\n",
    "from sklearn.metrics import mean_squared_error, r2_score\n",
    "\n",
    "rf_train_mse = mean_squared_error(y_train, y_rf_train_pred)\n",
    "rf_train_r2 = r2_score(y_train, y_rf_train_pred)\n",
    "\n",
    "rf_test_mse = mean_squared_error(y_test, y_rf_test_pred)\n",
    "rf_test_r2 = r2_score(y_test, y_rf_test_pred)"
   ]
  },
  {
   "cell_type": "code",
   "execution_count": 64,
   "id": "1e834298",
   "metadata": {},
   "outputs": [
    {
     "data": {
      "text/html": [
       "<div>\n",
       "<style scoped>\n",
       "    .dataframe tbody tr th:only-of-type {\n",
       "        vertical-align: middle;\n",
       "    }\n",
       "\n",
       "    .dataframe tbody tr th {\n",
       "        vertical-align: top;\n",
       "    }\n",
       "\n",
       "    .dataframe thead th {\n",
       "        text-align: right;\n",
       "    }\n",
       "</style>\n",
       "<table border=\"1\" class=\"dataframe\">\n",
       "  <thead>\n",
       "    <tr style=\"text-align: right;\">\n",
       "      <th></th>\n",
       "      <th>Method</th>\n",
       "      <th>Training MSE</th>\n",
       "      <th>Training R2</th>\n",
       "      <th>Test MSE</th>\n",
       "      <th>Test R2</th>\n",
       "    </tr>\n",
       "  </thead>\n",
       "  <tbody>\n",
       "    <tr>\n",
       "      <th>0</th>\n",
       "      <td>Random Forest</td>\n",
       "      <td>4410.801631</td>\n",
       "      <td>0.046515</td>\n",
       "      <td>4183.643196</td>\n",
       "      <td>0.046788</td>\n",
       "    </tr>\n",
       "  </tbody>\n",
       "</table>\n",
       "</div>"
      ],
      "text/plain": [
       "          Method Training MSE Training R2     Test MSE   Test R2\n",
       "0  Random Forest  4410.801631    0.046515  4183.643196  0.046788"
      ]
     },
     "execution_count": 64,
     "metadata": {},
     "output_type": "execute_result"
    }
   ],
   "source": [
    "rf_results = pd.DataFrame(['Random Forest', rf_train_mse, rf_train_r2, rf_test_mse, rf_test_r2]).transpose()\n",
    "rf_results.columns = ['Method', 'Training MSE', 'Training R2', 'Test MSE', 'Test R2']\n",
    "rf_results"
   ]
  },
  {
   "cell_type": "code",
   "execution_count": 65,
   "id": "f4bc7043",
   "metadata": {},
   "outputs": [
    {
     "data": {
      "text/plain": [
       "66.41386625757553"
      ]
     },
     "execution_count": 65,
     "metadata": {},
     "output_type": "execute_result"
    }
   ],
   "source": [
    "np.sqrt(mean_squared_error(y_train,y_rf_train_pred)) "
   ]
  },
  {
   "cell_type": "code",
   "execution_count": 66,
   "id": "0c2d1083",
   "metadata": {},
   "outputs": [
    {
     "data": {
      "text/plain": [
       "64.68108839211047"
      ]
     },
     "execution_count": 66,
     "metadata": {},
     "output_type": "execute_result"
    }
   ],
   "source": [
    "np.sqrt(mean_squared_error(y_test,y_rf_test_pred)) "
   ]
  },
  {
   "cell_type": "code",
   "execution_count": 67,
   "id": "599610eb",
   "metadata": {},
   "outputs": [
    {
     "data": {
      "text/html": [
       "<div>\n",
       "<style scoped>\n",
       "    .dataframe tbody tr th:only-of-type {\n",
       "        vertical-align: middle;\n",
       "    }\n",
       "\n",
       "    .dataframe tbody tr th {\n",
       "        vertical-align: top;\n",
       "    }\n",
       "\n",
       "    .dataframe thead th {\n",
       "        text-align: right;\n",
       "    }\n",
       "</style>\n",
       "<table border=\"1\" class=\"dataframe\">\n",
       "  <thead>\n",
       "    <tr style=\"text-align: right;\">\n",
       "      <th></th>\n",
       "      <th>Method</th>\n",
       "      <th>Training MSE</th>\n",
       "      <th>Training R2</th>\n",
       "      <th>Test MSE</th>\n",
       "      <th>Test R2</th>\n",
       "    </tr>\n",
       "  </thead>\n",
       "  <tbody>\n",
       "    <tr>\n",
       "      <th>0</th>\n",
       "      <td>Linear Regression</td>\n",
       "      <td>4552.972061</td>\n",
       "      <td>0.015782</td>\n",
       "      <td>4329.86663</td>\n",
       "      <td>0.013472</td>\n",
       "    </tr>\n",
       "    <tr>\n",
       "      <th>0</th>\n",
       "      <td>Random Forest</td>\n",
       "      <td>4410.801631</td>\n",
       "      <td>0.046515</td>\n",
       "      <td>4183.643196</td>\n",
       "      <td>0.046788</td>\n",
       "    </tr>\n",
       "  </tbody>\n",
       "</table>\n",
       "</div>"
      ],
      "text/plain": [
       "              Method Training MSE Training R2     Test MSE   Test R2\n",
       "0  Linear Regression  4552.972061    0.015782   4329.86663  0.013472\n",
       "0      Random Forest  4410.801631    0.046515  4183.643196  0.046788"
      ]
     },
     "execution_count": 67,
     "metadata": {},
     "output_type": "execute_result"
    }
   ],
   "source": [
    "#Model Comparision\n",
    "data2_models = pd.concat([lr_results, rf_results], axis = 0)\n",
    "data2_models"
   ]
  },
  {
   "cell_type": "code",
   "execution_count": 68,
   "id": "7841691a",
   "metadata": {},
   "outputs": [
    {
     "data": {
      "text/html": [
       "<div>\n",
       "<style scoped>\n",
       "    .dataframe tbody tr th:only-of-type {\n",
       "        vertical-align: middle;\n",
       "    }\n",
       "\n",
       "    .dataframe tbody tr th {\n",
       "        vertical-align: top;\n",
       "    }\n",
       "\n",
       "    .dataframe thead th {\n",
       "        text-align: right;\n",
       "    }\n",
       "</style>\n",
       "<table border=\"1\" class=\"dataframe\">\n",
       "  <thead>\n",
       "    <tr style=\"text-align: right;\">\n",
       "      <th></th>\n",
       "      <th>Method</th>\n",
       "      <th>Training MSE</th>\n",
       "      <th>Training R2</th>\n",
       "      <th>Test MSE</th>\n",
       "      <th>Test R2</th>\n",
       "    </tr>\n",
       "  </thead>\n",
       "  <tbody>\n",
       "    <tr>\n",
       "      <th>0</th>\n",
       "      <td>Linear Regression</td>\n",
       "      <td>4552.972061</td>\n",
       "      <td>0.015782</td>\n",
       "      <td>4329.86663</td>\n",
       "      <td>0.013472</td>\n",
       "    </tr>\n",
       "    <tr>\n",
       "      <th>1</th>\n",
       "      <td>Random Forest</td>\n",
       "      <td>4410.801631</td>\n",
       "      <td>0.046515</td>\n",
       "      <td>4183.643196</td>\n",
       "      <td>0.046788</td>\n",
       "    </tr>\n",
       "  </tbody>\n",
       "</table>\n",
       "</div>"
      ],
      "text/plain": [
       "              Method Training MSE Training R2     Test MSE   Test R2\n",
       "0  Linear Regression  4552.972061    0.015782   4329.86663  0.013472\n",
       "1      Random Forest  4410.801631    0.046515  4183.643196  0.046788"
      ]
     },
     "execution_count": 68,
     "metadata": {},
     "output_type": "execute_result"
    }
   ],
   "source": [
    "data2_models.reset_index(drop = True)"
   ]
  },
  {
   "cell_type": "code",
   "execution_count": 69,
   "id": "37f55a23",
   "metadata": {},
   "outputs": [
    {
     "data": {
      "text/plain": [
       "Text(0.5, 0, 'Experimental Completed_days')"
      ]
     },
     "execution_count": 69,
     "metadata": {},
     "output_type": "execute_result"
    },
    {
     "data": {
      "image/png": "[encoded data removed]",
      "text/plain": [
       "<Figure size 500x500 with 1 Axes>"
      ]
     },
     "metadata": {},
     "output_type": "display_data"
    }
   ],
   "source": [
    "#Data visualization of prediction results\n",
    "import matplotlib.pyplot as plt\n",
    "import numpy as np\n",
    "\n",
    "plt.figure(figsize = (5, 5))\n",
    "plt.scatter(x = y_train, y = y_lr_train_pred, c = \"#7CAE00\", alpha = 0.3)\n",
    "\n",
    "z = np.polyfit(y_train, y_lr_train_pred, 1)\n",
    "p = np.poly1d(z)\n",
    "\n",
    "plt.plot(y_train, p(y_train), '#F8766D')\n",
    "plt.ylabel('Predict Completed_days')\n",
    "plt.xlabel('Experimental Completed_days')"
   ]
  },
  {
   "cell_type": "code",
   "execution_count": null,
   "id": "4cba170a",
   "metadata": {},
   "outputs": [],
   "source": []
  }
 ],
 "metadata": {
  "kernelspec": {
   "display_name": "Python 3 (ipykernel)",
   "language": "python",
   "name": "python3"
  },
  "language_info": {
   "codemirror_mode": {
    "name": "ipython",
    "version": 3
   },
   "file_extension": ".py",
   "mimetype": "text/x-python",
   "name": "python",
   "nbconvert_exporter": "python",
   "pygments_lexer": "ipython3",
   "version": "3.11.2"
  }
 },
 "nbformat": 4,
 "nbformat_minor": 5
}
